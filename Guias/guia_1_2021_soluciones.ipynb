{
 "cells": [
  {
   "cell_type": "markdown",
   "metadata": {},
   "source": [
    "# Guia 1,*Julia*, Marzo de 2021"
   ]
  },
  {
   "cell_type": "markdown",
   "metadata": {},
   "source": [
    "## Mini tutorial: uso de comandos de terminal:\n",
    "\n",
    "Para usuarios Linux pueden ver una hoja de los comandos aquí: \n",
    "\n",
    "    https://cheatography.com/jonathan992/cheat-sheets/gnu-linux-command-spanish/\n",
    "\n",
    "Para usuarios de Windows ver:\n",
    "\n",
    "    XXX"
   ]
  },
  {
   "cell_type": "markdown",
   "metadata": {},
   "source": [
    "## Mini tutorial: gráficos\n",
    "\n",
    "Tenga a mano el siguiente tutorial de la librería `Plots`:\n",
    "\n",
    "    http://docs.juliaplots.org/latest/\n",
    "\n",
    "El mecanismo básico de ploteo toma dos vectores, $(x, y)$ y genera una serie de puntos en el plano con coordenadas los pares ordenados de los vectores $(x[i],y[i])$ si se usa la función scatter se plotean los puntos, si se usa la función `plot`, estos puntos son interpolados por una curva. En algunos casos el vector $x$ puede ser elegido, por simplicidad, como un intervalo: `x = 1:N`, o si queremos que tenga cierto intervalo predeterminado con `x = 0:0.1:2` por ejemplo. En Julia se puede aplicar una función definida para números reales a un vector y esta retorna un vector con los valores de $f$ en los elementos del vector. Por lo tanto se puede usar la asignación: `y = f.(x)` Note el `.` luego del nombre de la función, eso indica indica en el lenguaje que la función se aplica a cada uno de los elementos del vector. \n",
    "Aquí va un ejemplo:"
   ]
  },
  {
   "cell_type": "code",
   "execution_count": null,
   "metadata": {},
   "outputs": [],
   "source": [
    "# Llamo a la librería, de ese modo todos las funciones de la misma quedan automáticamente accesibles.\n",
    "using Plots \n",
    "# Defino los valores \"x\" de 4 en 4 desde -400 a 400\n",
    "x = -400:4:400 \n",
    "# Calculo los valores \\verb+y+\n",
    "y = log.(10.0.^(x)) \n",
    "# Note los puntos, indican a Julia que cada función toma un vector de valores.\n",
    "# Luego llamamos a la función scatter que literalmente graficará los datos\n",
    "scatter(x,y)\n",
    "# El gráfico aparecerá cortado pues la imagen de la función interna (potencia de 10) excede el intervalo de definición de los números en Float64."
   ]
  },
  {
   "cell_type": "markdown",
   "metadata": {},
   "source": [
    "## Mini tutoría: vectores y matrices\n",
    "\n",
    "Veamos como declarar arreglos (del inglés array).\n",
    "Consideremos un arreglo `a` declarado de la siguiente manera:\n",
    "\n",
    "    a = Array{Float64,2}(undef,(50,20))\n",
    "   \n",
    "Aquí `Array` es el nombre de una función. \n",
    "Las expresión en llaves es de la forma `{T,N}` indicando el tipo de los elementos (en este caso, números de punto flotante de 64 bits) y el nùmero de dimensiones (2 en este caso, por lo que el arreglo representa una matriz). \n",
    "Finalmente, entre paréntesis, la primera expresión indica especifica como se han de inicializar los elementos del array (en este caso se usa `undef` lo cual indica que se dejen los elementos sin inicializar), la segunda expresión indica el tamaño de las dimensiones del array (en este caso se usa la tupla de dos elementos `(50,20)`, lo cual indica que la primera dimensión es de tamaño 50 y la segunda de tamaño 20). \n",
    "\n",
    "Un arreglo con sólo 1 dimensión es considerado un vector. \n",
    "Por ende, un vector `v` pude declarase de la forma\n",
    "\n",
    "    v = Array{Float64,1}(undef,30)\n",
    "    \n",
    "En este caso, no hace falta especificar el tamaño de la única dimensión usando una tupla. Con un número basta. Alternativamente, un vector puede declarase de la forma\n",
    "\n",
    "    v = Vector{Float64}(undef,30)\n",
    "    \n",
    "Internamente, Julia remplazará esta última expresión por la anterior. Finalmente, es posible declarar vectores de tamaño nulo, cuyos tamaños pueden ser posteriormente modificados. Por ejemplo, a expresión\n",
    "\n",
    "    a = Array{Float64,1}()\n",
    "    \n",
    "declara un arreglo de 1 dimensión de tamaño 0. El mismo puede ir rellenandose, por ejemplo, usando la funcion `push!` (recordemos que las funciones que terminan con el símbolo ! sirven para modificar contenido). Por ejemplo, si escribimos y ejecutamos el código:\n",
    "\n",
    "    a = Array{Float64,1}()\n",
    "    println(a)\n",
    "    push!(a,10.0)\n",
    "    push!(a,20.0)\n",
    "    push!(a,30.0)\n",
    "    println(a)\n",
    "    \n",
    "Veremos como resultado las expresiones:\n",
    "\n",
    "    Float64[]\n",
    "    [10.0, 20.0, 30.0]\n",
    "    \n",
    "correspondiendo, primero a un arreglo vacío y luego a un arreglo con 3 elementos. Para mayor información sobre la declaración de arreglos, visite la página:\n",
    "    \n",
    "    https://docs.julialang.org/en/v1/base/arrays/"
   ]
  },
  {
   "cell_type": "markdown",
   "metadata": {},
   "source": [
    "### Ejercicio 1: \n",
    "En una terminal, cree un directorio nuevo usando el comando `mkdir`. Descargue desde el navegador el archivo de esta guía y mueva el mismo al nuevo directorio.\n",
    "Cambie el nombre del archivo usando `mv` a *guia1.pdf* y copie usando `cp` el archivo a otro con nombre *Copia.pdf*.\n",
    "Luego, liste usando `ls` el contenido del directorio y verifique los nombres y el tamaño y fecha de los mismos usando `ls -l`.\n",
    "Averigüe qué espacio ocupa el directorio usando el comando `du -h`.\n",
    "Finalmente, borre todos los archivos y el directorio `rm` y `rmdir`."
   ]
  },
  {
   "cell_type": "markdown",
   "metadata": {},
   "source": [
    "### Ejercicio 2: \n",
    "Grafique la función $f(x)=\\sin(2\\pi x)$ para $x\\in[0,5]$. Varíe la cantidad de puntos que usa para mejorar la calidad del gráfico. De nombre a los ejes, tı́tulo al gráfico y defina la leyenda para que aparezca $f(x)$.\n",
    "\n",
    "Por regla general, use la función `scatter` para graficar puntos y la función `plot` para graficar curvas. Tenga a mano el tutorial de la librería o paquete `Plots`:\n",
    "\n",
    "http://docs.juliaplots.org/latest/"
   ]
  },
  {
   "cell_type": "code",
   "execution_count": null,
   "metadata": {},
   "outputs": [],
   "source": [
    "# Importamos las librerias o paquetes que necesitamos\n",
    "using Plots # Libreria para plotear (es decir, graficar).\n",
    "\n",
    "# Creamos un generador de una secuencia de números (en punto flotante en este caso) que van desde 1.0 a intervalos de 0.1 hasta 5.0 inclusive.\n",
    "xgen = 1.0:0.1:5.0\n",
    "\n",
    "# Calculamos la funcion sin(2*pi*x) para cada valor que genera el generador xgen. El punto detras de la funcion sin indica que la funcion \n",
    "# tiene que ser aplicada a cada uno de los valores generados por xgen. Como resultado, obtendremos un array de \n",
    "# valores al que llamamos yvals.\n",
    "yvals = sin.(2.0*π*xgen)\n",
    "\n",
    "# Ploteamos los valores en yvals vs los correspondientes valores que genera xgen. Especificamos, además, el label\n",
    "# para el eje horizontal o eje-x, el label para el eje vertical o eje-y, el label que irá en la leyenda del \n",
    "# gráfico correspondiente a los puntos graficados y el título del gráfico.\n",
    "plot(xgen,yvals,xlab=\"x\",ylab=\"y\",label=\"y=f(x)\",title=\"Ejercicio 2\")"
   ]
  },
  {
   "cell_type": "markdown",
   "metadata": {},
   "source": [
    "### Ejercicio 3: \n",
    "a) Cree un directorio nuevo, `mkdir tmp/`. Ingrese al nuevo directorio, `cd tmp`.\n",
    "\n",
    "b) Dentro del directorio creado, use su editor de texto preferido o las funciones `open` y `print` de Julia para crear un archivo de texto llamado `datos.dat` con el siguiente contenido\n",
    "\n",
    "    0.0  1.0  1.2\n",
    "    1.0  1.5  1.6\n",
    "    2.0  2.0  2.0\n",
    "    3.6  2.5  2.4\n",
    "\n",
    "c) Usar las funciones `Vector` para crear arrays llamados `xvals`, `y1vals` e `y2vals`. Luego utilice las funciones `open`, `eachline`, `parse` y `push!` para cargar los datos de las columnas del archivo `datos.dat` en dichos arrays.\n",
    "\n",
    "d) Utilice la función `scatter` del paquete `Plots` para graficar, usando sólo \"puntos\", las funciones definidas por `y1vals` vs `xvals` e `y2vals` vs `xvals`.\n",
    "\n",
    "e) En el mismo gráfico incluya las funciones $y_3(x) = 0.5x + 1$ e $y_4(x) = 0.4x + 1.2$\n",
    "\n",
    "f) Agregue el labels $x$ al eje horizontal y el label $y$ al vertical.\n",
    "\n",
    "g) Titule el gráfico \"Funciones lineales\".\n",
    "\n",
    "h) Pruebe habilitar y deshabilitar la grilla.\n",
    "\n",
    "i) Exporte el gráfico a un archivo formato `.pdf` (u otro formato de su preferencia, tales como `.png`, `.jpg`, `.ps`, etc). \n",
    "Utilice su visualizador de `.pdf` (o `.jpg`, etc) preferido para constatar los cambios.\n",
    "\n",
    "j) Experimente graficar cambiando el tamaño de los puntos y el\n",
    "grosor de las lı́neas, etc.\n",
    "\n",
    "k) Modifique el archivo `datos.dat` agregando, sacando y/o cambiando números. Luego regrafique y constante los cambios."
   ]
  },
  {
   "cell_type": "code",
   "execution_count": null,
   "metadata": {},
   "outputs": [],
   "source": [
    "# a)\n",
    "\n",
    "# El directorio puede crearse usando la terminal. Pero también podemos crearlo desde Julia.\n",
    "\n",
    "# Imprimimos el directorio en donde estamos trabajando, como para saber donde se va a crear el directorio tmp.\n",
    "print(\"Trabajando en: \")\n",
    "println(pwd())\n",
    "\n",
    "# Creamos el directorio tmp dentro del directorio en el que estamos trabajando.\n",
    "mkpath(\"tmp\")"
   ]
  },
  {
   "cell_type": "code",
   "execution_count": null,
   "metadata": {},
   "outputs": [],
   "source": [
    "# b)\n",
    "\n",
    "# El archivo y su contenido puede crearse usando un editor de texto. Pero también podemos crearlo desde Julia.\n",
    "\n",
    "# Creamos el contenido que queremos guardar en el archivo.\n",
    "s = \"\"\"0.0  1.0  1.2\n",
    "1.0  1.5  1.6\n",
    "2.0  2.0  2.0\n",
    "3.6  2.5  2.4\n",
    "\"\"\"\n",
    "# Creamos el archivo datos.dat con el contenido especificado.\n",
    "open(\"tmp/datos.dat\", \"w\") do io\n",
    "    print(io,s)\n",
    "end"
   ]
  },
  {
   "cell_type": "code",
   "execution_count": null,
   "metadata": {},
   "outputs": [],
   "source": [
    "# c)\n",
    "\n",
    "# Creamos vectores vacios (es decir, de tamaño 0) para ir guardando los valores que vamos leyendo del archivo.\n",
    "xvals = Vector{Float64}() \n",
    "y1vals = Vector{Float64}()\n",
    "y2vals = Vector{Float64}()\n",
    "\n",
    "# Abrimos el archivo\n",
    "open(\"tmp/datos.dat\") do f \n",
    "    # Lo leemos linea por linea\n",
    "    for linea in eachline(f) \n",
    "        fila = split(linea) # Dividimos la linea en tokens\n",
    "        x = parse(Float64,fila[1]) # Convertimos el primer token al numero flotante x\n",
    "        y1 = parse(Float64,fila[2]) # Convertimos el segundo token al numero flotante y1\n",
    "        y2 = parse(Float64,fila[3]) # Convertimos el tercer token al numero flotante y2\n",
    "        push!(xvals,x) # Incorporamos al array xvals el último valor de x leido.   \n",
    "        push!(y1vals,y1) # Incorporamos al array y1vals el último valor de y1 leido.        \n",
    "        push!(y2vals,y2) # Incorporamos al array y2vals el último valor de y2 leido.        \n",
    "    end\n",
    "end"
   ]
  },
  {
   "cell_type": "code",
   "execution_count": null,
   "metadata": {},
   "outputs": [],
   "source": [
    "# d)\n",
    "\n",
    "using Plots # Importamos Plots para acceder a la function scatter\n",
    "\n",
    "scatter(xvals,y1vals) # Graficamos la primera columna.\n",
    "scatter!(xvals,y2vals) # Agregamos al grafico la segunda columna. Notar el símbolo !, indica que \n",
    "                       # la función modifica algún contenido en vez de crearlo. En este caso \n",
    "                       # modifica el gráfico."
   ]
  },
  {
   "cell_type": "code",
   "execution_count": null,
   "metadata": {},
   "outputs": [],
   "source": [
    "# e)\n",
    "\n",
    "# Definimos las funciones y3(x) e y4(x)\n",
    "y3(x) = .5*x+1.\n",
    "y4(x) = .4*x+1.2\n",
    "\n",
    "# Usamos la evaluación \"punto a punto\" de la funcion sobre el array xvals para crear sendos arrays y3vals e y4vals\n",
    "y3vals = y3.(xvals)\n",
    "y4vals = y4.(xvals)\n",
    "\n",
    "scatter!(xvals,y3vals) # Agregamos al gráfico la curva y3(x)\n",
    "scatter!(xvals,y4vals) # Agregamos al gráfico la curva y4(x)"
   ]
  },
  {
   "cell_type": "code",
   "execution_count": null,
   "metadata": {},
   "outputs": [],
   "source": [
    "# f), g) y h)\n",
    "\n",
    "scatter!(legend=:topleft,xlab=\"x\",ylab=\"y\",title=\"Funciones lineales\",grid=true)"
   ]
  },
  {
   "cell_type": "code",
   "execution_count": null,
   "metadata": {},
   "outputs": [],
   "source": [
    "# i)\n",
    "\n",
    "# Exportamos el grafico a un archivo formato PDF\n",
    "savefig(\"tmp/funciones-lineales.pdf\")"
   ]
  },
  {
   "cell_type": "code",
   "execution_count": null,
   "metadata": {},
   "outputs": [],
   "source": [
    "# j)\n",
    "\n",
    "# Para tener una pequeña ayuda sobre la funcion scatter (o cualquier otra), ingrese en una celda \n",
    "# (o en la terminal de Julia) el comando\n",
    "#\n",
    "#   ?scatter\n",
    "\n",
    "# Para conocer mas sobre los atributos que se pueden modificar, visite la página:\n",
    "#   https://docs.juliaplots.org/latest/attributes/\n",
    "\n",
    "# Notar que en ésta nueva primera llamada a scatter no usamos el símbolo !. \n",
    "# De esta manera crea un gráfico nuevo en vez de agregar cosas al gráfico ya existente.\n",
    "scatter(xvals,y1vals,markersize=5,markercolor=:red,markerstrokewidth=3) # Graficamos columna 1.\n",
    "scatter!(xvals,y2vals,markersize=7,markercolor=:blue,shape=:+) # Graficamos columna 2.\n",
    "scatter!(xvals,y3vals,markersize=8,markercolor=:green,shape=:ltriangle) # Graficamos y3(x)\n",
    "scatter!(xvals,y4vals,marker=(:hexagon,20,0.3,:cyan,stroke(3,0.2,:black,:dot))) # Graficamos y4(x)\n",
    "scatter!(legend=:topleft,xlab=\"x\",ylab=\"y\",title=\"Funciones lineales\",grid=true) # Especificamos labels, título, etc."
   ]
  },
  {
   "cell_type": "code",
   "execution_count": null,
   "metadata": {},
   "outputs": [],
   "source": [
    "# Finalmente, borramos el directorio creado. Esto también puede hacerse desde la terminal, pero nosotros lo\n",
    "# hacemos desde Julia.\n",
    "rm(\"tmp\",recursive=true)"
   ]
  },
  {
   "cell_type": "markdown",
   "metadata": {},
   "source": [
    "### Ejercicio 3 bis:\n",
    "En Julia existe varias formas alternativas y convenientes de guardar en, y leer datos de, archivos. Una forma la provee el paquete `CSV`, que aquí no veremos. Otra particularmente conveniente utiliza el formato `JLD2` y es proveída por el paquete `FileIO`. \n",
    "Ejercitémonos con un ejemplo.\n",
    "\n",
    "a) Guarde los arreglos `vals`, `y1vals` e `y2vals` en un archivo usando el formato `JLD2` vía el código\n",
    "\n",
    "    mkdir(\"tmp\")\n",
    "    save(\"tmp/datos.jld2\", Dict(\"xvals\" => xvals, \"y1vals\" => y1vals))\n",
    "    \n",
    "b) Cargue dichos arreglos del archivo `datos.jld2` a nuevos arreglos de nombres `xnuevo`, `y1nuevo` e `y2nuevo` vía el código\n",
    "\n",
    "    xnuevo = load(\"tmp/datos.jld2\", \"xvals\")\n",
    "    y1nuevo = load(\"tmp/datos.jld2\", \"y1vals\")\n",
    "    y2nuevo = load(\"tmp/datos.jld2\", \"y1vals\")\n",
    "    \n",
    "c) Grafique `y1nuevo` vs `xnuevo` e `y2nuevo` vs `xnuevo`. \n",
    "\n",
    "d) Finalmente, borre el directorio temporario escribiendo\n",
    "\n",
    "    rm(\"tmp\")"
   ]
  },
  {
   "cell_type": "code",
   "execution_count": null,
   "metadata": {},
   "outputs": [],
   "source": [
    "# a)\n",
    "\n",
    "using FileIO\n",
    "\n",
    "#mkdir(\"tmp\")\n",
    "save(\"tmp/datos.jld2\", Dict(\"xvals\" => xvals, \"y1vals\" => y1vals))"
   ]
  },
  {
   "cell_type": "code",
   "execution_count": null,
   "metadata": {},
   "outputs": [],
   "source": [
    "# b)\n",
    "\n",
    "xnuevo = load(\"tmp/datos.jld2\", \"xvals\")\n",
    "y1nuevo = load(\"tmp/datos.jld2\", \"y1vals\")\n",
    "y2nuevo = load(\"tmp/datos.jld2\", \"y1vals\")"
   ]
  },
  {
   "cell_type": "code",
   "execution_count": null,
   "metadata": {},
   "outputs": [],
   "source": [
    "# c)\n",
    "\n",
    "scatter(xnuevo,y1nuevo) \n",
    "scatter!(xnuevo,y2nuevo)"
   ]
  },
  {
   "cell_type": "code",
   "execution_count": null,
   "metadata": {},
   "outputs": [],
   "source": [
    "rm(\"tmp\",recursive=true)"
   ]
  },
  {
   "cell_type": "markdown",
   "metadata": {},
   "source": [
    "### Ejercicio 4\n",
    "Evaluar en celdas de Julia las siguientes operaciones matemáticas\n",
    "\n",
    "Usando división entera\n",
    "\n",
    "a) $5 / 2 + 20/ 6$\n",
    "\n",
    "b) $4 \\times 6 / 2 - 15 / 2$\n",
    "\n",
    "c) $5 \\times 15 / 2 / (4 - 2)$\n",
    "\n",
    "Usando división entera, flotante y racional\n",
    "\n",
    "d) $1 + 1/4$\n",
    "\n",
    "e) $5.7/3$\n",
    "\n",
    "Ayudas:\n",
    "\n",
    "La división entera se representa con el símbolo unicode `÷`.\n",
    "Para escribir o ingresar dicho símbolo en la cónsola de Julia o en una notebook de Julia, escribir `\\div` e inmediatamente después presionar la tecla \"tab\".\n",
    "De manera análoga se escribe cualquier otro símbolo unicode.\n",
    "En la siguiente página Ud. puede encontrar algunos símbolos unicode relevantes para Julia.\n",
    "\n",
    "    https://docs.julialang.org/en/v1/manual/unicode-input/\n",
    "\n",
    "La división flotante se representa con la barra `/`.\n",
    "La división racional se representa con la doble barra `//`.\n",
    "\n",
    "Para crear un entero de un dado número de bits usamos funciones como `Int16()`, `Int32()`, etc. \n",
    "Para crear números de punto flotante usamos `Float32()`, `Float64()`, etc. \n",
    "También podemos crear enteros sin signo usando `UInt16()`, `UInt32()`, etc.\n",
    "Cuando el tipo de un número tipo no se especifica explícitamente, Julia asigna por defecto el tipo `Float64` o el tipo `Int64` dependiendo de si el número tiene punto o no, o dependiendo del tipo de operación involucrada (ej. división en punto flotante, entera o racional).\n",
    "\n",
    "Para más detalles visite la página\n",
    "\n",
    "    https://docs.julialang.org/en/v1/manual/integers-and-floating-point-numbers/"
   ]
  },
  {
   "cell_type": "code",
   "execution_count": null,
   "metadata": {},
   "outputs": [],
   "source": [
    "# a)\n",
    "5÷2+20÷6"
   ]
  },
  {
   "cell_type": "code",
   "execution_count": null,
   "metadata": {},
   "outputs": [],
   "source": [
    "# b)\n",
    "4*6÷2-15÷2"
   ]
  },
  {
   "cell_type": "code",
   "execution_count": null,
   "metadata": {},
   "outputs": [],
   "source": [
    "# c)\n",
    "5*15÷2÷(4-2)"
   ]
  },
  {
   "cell_type": "code",
   "execution_count": null,
   "metadata": {},
   "outputs": [],
   "source": [
    "# d)\n",
    "1+1÷4"
   ]
  },
  {
   "cell_type": "code",
   "execution_count": null,
   "metadata": {},
   "outputs": [],
   "source": [
    "1+1/4"
   ]
  },
  {
   "cell_type": "code",
   "execution_count": null,
   "metadata": {},
   "outputs": [],
   "source": [
    "1+1//4"
   ]
  },
  {
   "cell_type": "code",
   "execution_count": null,
   "metadata": {},
   "outputs": [],
   "source": [
    "# e)\n",
    "5.7÷3"
   ]
  },
  {
   "cell_type": "code",
   "execution_count": null,
   "metadata": {},
   "outputs": [],
   "source": [
    "5.7/3"
   ]
  },
  {
   "cell_type": "code",
   "execution_count": null,
   "metadata": {},
   "outputs": [],
   "source": [
    "# Este da error porque, en Julia, el operador división racional no funciona con números de punto flotante\n",
    "5.7//3 "
   ]
  },
  {
   "cell_type": "markdown",
   "metadata": {},
   "source": [
    "### Ejercicio 5\n",
    "Evaluar las siguientes operaciones usando matemática de enteros con signo de 2 bytes (`Int16` del inglés Integer de 16 bits):\n",
    "\n",
    "a) $32767 + 1$\n",
    "\n",
    "b) $30000 \\times 2$\n",
    "\n",
    "c) $-30000-10000$\n",
    "\n",
    "y usando enteros sin signo de 2 bytes (`UInt16` del inglés Unsigned Integer de 16 bits):\n",
    "\n",
    "d) $32767 + 1$\n",
    "\n",
    "e) $64535 + 1$"
   ]
  },
  {
   "cell_type": "code",
   "execution_count": null,
   "metadata": {},
   "outputs": [],
   "source": [
    "# a)\n",
    "Int16(32767)+Int16(1)"
   ]
  },
  {
   "cell_type": "code",
   "execution_count": null,
   "metadata": {},
   "outputs": [],
   "source": [
    "# b)\n",
    "Int16(30000)*Int16(2)"
   ]
  },
  {
   "cell_type": "code",
   "execution_count": null,
   "metadata": {},
   "outputs": [],
   "source": [
    "# c)\n",
    "Int16(-30000)*Int16(-10000)"
   ]
  },
  {
   "cell_type": "code",
   "execution_count": null,
   "metadata": {},
   "outputs": [],
   "source": [
    "# d)\n",
    "UInt16(32767)+UInt16(1)"
   ]
  },
  {
   "cell_type": "code",
   "execution_count": null,
   "metadata": {},
   "outputs": [],
   "source": [
    "# En este caso convertimos el resultado de la suma a Int64 para que se imprima en formato decimal en vez de \n",
    "# hexadecimal como ocurre en la anterior celda.\n",
    "Int64(UInt16(32767)+UInt16(1))"
   ]
  },
  {
   "cell_type": "code",
   "execution_count": null,
   "metadata": {},
   "outputs": [],
   "source": [
    "# e)\n",
    "UInt16(65535)+UInt16(1)"
   ]
  },
  {
   "cell_type": "code",
   "execution_count": null,
   "metadata": {},
   "outputs": [],
   "source": [
    "# En este caso convertimos el resultado de la suma a Int64 para que se imprima en formato decimal en vez de \n",
    "# hexadecimal como ocurre en la anterior celda.\n",
    "Int64(UInt16(65535)+UInt16(1))"
   ]
  },
  {
   "cell_type": "markdown",
   "metadata": {},
   "source": [
    "### Ejercicio 6: \n",
    "Escriba un programa que pida dos números reales e imprima en la pantalla el mayor de ellos. El programa debe \n",
    "indicar si los números son iguales."
   ]
  },
  {
   "cell_type": "code",
   "execution_count": 13,
   "metadata": {},
   "outputs": [
    {
     "name": "stdout",
     "output_type": "stream",
     "text": [
      "Ingrese el primer número real:\n",
      "stdin> 2\n",
      "Ingrese el segundo número real:\n",
      "stdin> 2\n",
      "Es mayor que 1\n"
     ]
    }
   ],
   "source": [
    "# La función readline() lee datos de lo que se llama el \"standard input\" (en Castellano, entrada estandard). \n",
    "# Típicamente, la stdin (o standard input) proviene del teclado, por lo que readline() leerá texto que ingresemos\n",
    "# por teclado.\n",
    "\n",
    "println(\"Ingrese el primer número real:\")\n",
    "r1 = parse(Float64, readline())\n",
    "\n",
    "println(\"Ingrese el segundo número real:\")\n",
    "r2 = parse(Float64, readline())\n",
    "\n",
    "if r1 > r2\n",
    "    println(\"El mayor número es \",r1)\n",
    "elseif r2 > r1\n",
    "    println(\"El mayor número es \",r2)\n",
    "else\n",
    "    println(\"Los números son iguales.\")\n",
    "end"
   ]
  },
  {
   "cell_type": "markdown",
   "metadata": {},
   "source": [
    "### Ejercicio 7:\n",
    "Escriba un programa que pida un número entero y determine si es múltiplo de 2 y de 5."
   ]
  },
  {
   "cell_type": "code",
   "execution_count": null,
   "metadata": {},
   "outputs": [],
   "source": []
  },
  {
   "cell_type": "code",
   "execution_count": null,
   "metadata": {},
   "outputs": [],
   "source": [
    "println(\"Ingrese un primer número entero:\")\n",
    "i = parse(Int64, readline())\n",
    "\n",
    "if i % 2 == 0 && i % == 5\n",
    "    println(\"El número es múltiplo de 2 y de 5.\")\n",
    "else\n",
    "    println(\"El número es NO múltiplo de 2 y de 5.\")\n",
    "end"
   ]
  },
  {
   "cell_type": "markdown",
   "metadata": {},
   "source": [
    "### Ejercicio 8:\n",
    "Escriba una programa que ingrese los coeficientes $A$, $B$ y $C$ de un polinomio real de segundo grado, $Ax^2+Bx+C$, calcule e imprima en pantalla las dos raíces del polinomio en formato complejo $a+ib$, sin utilizar álgebra compleja."
   ]
  },
  {
   "cell_type": "code",
   "execution_count": null,
   "metadata": {},
   "outputs": [],
   "source": [
    "println(\"Ingrese un el coeficiente A:\")\n",
    "A = parse(Float64, readline())\n",
    "\n",
    "println(\"Ingrese un el coeficiente B:\")\n",
    "B = parse(Float64, readline())\n",
    "\n",
    "println(\"Ingrese un el coeficiente C:\")\n",
    "C = parse(Float64, readline())\n",
    "\n",
    "d = B^2 - 4*A*C\n",
    "a = -0.5*B/A\n",
    "b = 0.5*sqrt(abs(d))/abs(A)\n",
    "if d < 0 # Si el discriminante es menor que cero, las raices son complejas.\n",
    "    println(\"Ambas raices son complejas: $a +/- i*$b\")\n",
    "else\n",
    "    println(\"Ambas raices son reales: $(a+b) y $(a-b)\")\n",
    "end"
   ]
  },
  {
   "cell_type": "markdown",
   "metadata": {},
   "source": [
    "### Ejercicio 9:\n",
    "Escriba un programa que permita convertir números naturales con base 10 a la base $b \\leq 16$.\n",
    "El programa debe pedir como entrada $b$ y el número natural a convertir (que debe estar en base 10)."
   ]
  },
  {
   "cell_type": "code",
   "execution_count": null,
   "metadata": {},
   "outputs": [],
   "source": [
    "println(\"Ingrese un número:\")\n",
    "n = parse(Int64, readline())\n",
    "\n",
    "println(\"Ingrese una base:\")\n",
    "b = parse(Int64, readline())\n",
    "@assert b >= 2 && b <= 16\n",
    "\n",
    "digitos = \"0123456789ABCDEF\"\n",
    "s = \"\"\n",
    "while n>0\n",
    "    r = n%b\n",
    "    s = digitos[r+1] * s # Cuando el operador * es aplicado a cadenas de caracteres, retorna una cadena que es igual a la concatenación de las mismas.\n",
    "    n = n÷b\n",
    "end\n",
    "\n",
    "println(\"El resultado es \",s)"
   ]
  },
  {
   "cell_type": "markdown",
   "metadata": {},
   "source": [
    "### Ejercicio 10:\n",
    "\n",
    "   Escriba un programa para calcular un valor aproximado de $\\pi$ utilizando:\n",
    "    \n",
    "   a) la fórmula recurrente de Arquímedes, en dode los parámetros $p_n$ y $P_n$ de los polígonos regulares de $n$ lados inscriptos y circunscriptos en la circunsferencia de radio $1/2$, respectivamente, se usan para acotar $\\pi$ ya que $p_n < π < P_n$ para todo $n$ y $P_n-p_n$ disminuye con $n$.\n",
    "\n",
    "   La fórmula de recurrencia que encontró Arquímides es la siguiente:\n",
    "\n",
    "$$P_{2n} = \\frac{2p_nP_n}{p_n + P_n} \\;\\;\\;\\;\\; p_{2n} = \\sqrt{P_{2n}p_n}$$\n",
    "\n",
    "   Usando los valores $P_6 = 2\\sqrt{3}$ y $p_6 = 3$, correspondientes al hexágono, escriba un programa que realice 20 iteraciones, con $n = 6 \\cdot 2^k$, y $k = 1 \\ldots 20$, y escriba los resultados en pantalla.\n",
    "\n",
    "\n",
    "   b) la productoria de Wallis\n",
    "$$\\frac{\\pi}{2} = \\prod_1^{\\infty} \\frac{(2n)^2}{(2n)^2 - 1} = \\frac{3}{4}\\frac{16}{15}\\frac{36}{35}\\frac{64}{63} \\cdots$$\n",
    "\n",
    "   Calcule el valor de π truncando la productoria a $10^6$ factores."
   ]
  },
  {
   "cell_type": "code",
   "execution_count": null,
   "metadata": {},
   "outputs": [],
   "source": [
    "# a)\n",
    "\n",
    "k = 0\n",
    "p = 3\n",
    "P = 2*sqrt(3)\n",
    "#p = BigFloat(3)\n",
    "#P = BigFloat(2*sqrt(3))\n",
    "while k <= 20\n",
    "    println(\"k=$k p=$p, P=$P\")\n",
    "    P = 2*p*P/(p+P)\n",
    "    p = sqrt(P*p)\n",
    "    k += 1\n",
    "end\n",
    "aprox = 0.5*(p+P)\n",
    "err = abs(π-aprox)\n",
    "n = 6*2^k\n",
    "println(\"n=$n aprox=$aprox err=$err\")"
   ]
  },
  {
   "cell_type": "code",
   "execution_count": null,
   "metadata": {},
   "outputs": [],
   "source": [
    "# b)\n",
    "nmax=10^6\n",
    "w=1.\n",
    "#w=BigFloat(1)\n",
    "for n = 1:nmax\n",
    "    f = Float64(2n*2n)\n",
    "    w *= f/(f-1)\n",
    "end\n",
    "aprox = 2.0*w\n",
    "err = abs(π-aprox)\n",
    "println(\"n=$nmax aprox=$aprox err=$err\")"
   ]
  },
  {
   "cell_type": "markdown",
   "metadata": {},
   "source": [
    "### Ejercicio 11, alternativo:\n",
    "Escriba un vector cuyas $N$ componentes satisfagan $v[i] = i^2$."
   ]
  },
  {
   "cell_type": "code",
   "execution_count": null,
   "metadata": {},
   "outputs": [],
   "source": [
    "N = 100\n",
    "\n",
    "# Creamos un array de 1 dimension de tamaño N. Esto es equivalente a escribir v = Vector{Float64}(undef,N)\n",
    "v = Array{Int64,1}(undef,N)\n",
    "\n",
    "# Llenamos el array asignado una a una sus entradas.\n",
    "for i = 1:length(v)\n",
    "    v[i] = i^2\n",
    "end\n",
    "\n",
    "# Mostramos el array.\n",
    "v"
   ]
  },
  {
   "cell_type": "markdown",
   "metadata": {},
   "source": [
    "### Problema 12:\n",
    "Declare un arreglo de números flotantes de 64 bits de dimensiones \\verb+(50,20)+ en donde la entrada `a[i,j]` de la fila `i` y la columna `j` de `a` valga `i*j`. Escriba secciones de este arreglo representando:\n",
    "    \n",
    "a) la primera fila de `a`,\n",
    "\n",
    "b) la última columna de `a`, y\n",
    "\n",
    "c) un elemento de por medio en cada fila y columna de `a`."
   ]
  },
  {
   "cell_type": "code",
   "execution_count": null,
   "metadata": {},
   "outputs": [],
   "source": [
    "a = Array{Float64,2}(undef,(50,20))\n",
    "for i = 1:50\n",
    "    for j = 1:20\n",
    "        a[i,j] = i*j\n",
    "    end\n",
    "end"
   ]
  },
  {
   "cell_type": "code",
   "execution_count": null,
   "metadata": {},
   "outputs": [],
   "source": [
    "# a)\n",
    "\n",
    "a[:,1]"
   ]
  },
  {
   "cell_type": "code",
   "execution_count": null,
   "metadata": {},
   "outputs": [],
   "source": [
    "# b)\n",
    "\n",
    "a[end,:]"
   ]
  },
  {
   "cell_type": "code",
   "execution_count": null,
   "metadata": {},
   "outputs": [],
   "source": [
    "# c)\n",
    "\n",
    "a[1:2:end,1:2:end]"
   ]
  },
  {
   "cell_type": "markdown",
   "metadata": {},
   "source": [
    "### Problema 13:\n",
    "Escriba un programa, utilizando la instrucción `for`, que multiplique un vector de N elementos, por una matriz de $N \\times N$. El programa debe preguntar el valor de N y luego definir los arreglos, y darle valores iniciales tal que, la matriz sea triangular superior, con todos sus elementos igual a 1, excepto los de la diagonal que toman valor 3, el vector tendra todos sus elementos pares igual a 2, y los impares igual a 3. No utilice `do` ni `for` para inicializar el vector, ni `do` ni `for` anidados para inicializar la matriz. Finalmente, calcule el producto matricial de la matriz por el vector e imprímalos en pantalla."
   ]
  },
  {
   "cell_type": "code",
   "execution_count": null,
   "metadata": {},
   "outputs": [],
   "source": [
    "println(\"Ingrese N:\")\n",
    "N = parse(Int64, readline())\n",
    "\n",
    "# Creamos un array de 1 dimension de tamaño N. Esto es equivalente a escribir v = Vector{Float64}(undef,N)\n",
    "v = Array{Float64,1}(undef,N)\n",
    "# Llenamos el array usando \"strides\" y la asignación \"punto a punto\".\n",
    "v[1:2:end] .= 2.0\n",
    "v[2:2:end] .= 3.0\n",
    "\n",
    "# Creamos un array de 2 dimensiones de tamaño N.\n",
    "a = Array{Float64,2}(undef,(N,N))\n",
    "# Llenamos el array.\n",
    "for i = 1:N\n",
    "    a[i,i] = 3.0\n",
    "    a[i,i+1:N] .= 1.0\n",
    "    a[i,1:i-1] .= 0.0\n",
    "end\n",
    "\n",
    "# Mostramos el producto a*v\n",
    "a*v"
   ]
  },
  {
   "cell_type": "markdown",
   "metadata": {},
   "source": [
    "## Ejercicios complementarios:"
   ]
  },
  {
   "cell_type": "markdown",
   "metadata": {},
   "source": [
    "### Ejercicio 14, alternativo:\n",
    "\n",
    "Un script de Julia es un archivo que contiene código Julia. \n",
    "\n",
    "a) Cree un archivo llamado `miscript.jl` con el siguiente contenido\n",
    "\n",
    "    function maximo(x,y)\n",
    "        if x>y\n",
    "            return x\n",
    "        else\n",
    "            return y\n",
    "        end\n",
    "    end\n",
    "    \n",
    "b) En una celda de la notebook, ejecute las lineas\n",
    "\n",
    "    include(\"miscript.jl\")\n",
    "    println(maximo(1,13))\n",
    "    \n",
    "para incluir y usar las función declarada en el script en la actual sesión de la notebook.\n",
    "    \n",
    "c) Experimente agregando otras funciones al script. Vuelva a incluir el escript y pruebe si las funciones pueden usarse en la notebook.  "
   ]
  },
  {
   "cell_type": "code",
   "execution_count": null,
   "metadata": {},
   "outputs": [],
   "source": [
    "s=\"\"\"function maximo(x,y)\n",
    "    if x>y\n",
    "        return x\n",
    "    else\n",
    "        return y\n",
    "    end\n",
    "end\"\"\"\n",
    "open(\"miscript.jl\",\"w\") do f\n",
    "   write(f,s) \n",
    "end"
   ]
  },
  {
   "cell_type": "code",
   "execution_count": null,
   "metadata": {},
   "outputs": [],
   "source": [
    "include(\"miscript.jl\")\n",
    "println(maximo(1,13))"
   ]
  },
  {
   "cell_type": "code",
   "execution_count": null,
   "metadata": {},
   "outputs": [],
   "source": [
    "rm(\"miscript.jl\")"
   ]
  },
  {
   "cell_type": "markdown",
   "metadata": {},
   "source": [
    "### Ejercicio 15, alternativo:\n",
    " \n",
    "a) Escriba un programa para calcular la posición y la velocidad en función del tiempo, para un problema de tiro oblícuo. Asumiendo que el proyectil parte del origen, debe preguntar el ángulo (en grados) y la velocidad inicial (en m/seg.). Utilice funciones para calcular la posición y la velocidad.\n",
    "\n",
    "b) Grafique la solución (trayectoria) eligiendo el incremento temporal $\\Delta t$ de manera que la gráfica tenga 600 puntos y abarque el intervalo entre el disparo y el instante en que el proyectil vuelve a tener altura 0. \n",
    "\n",
    "c) Grafique las componentes de la velocidad en función del tiempo. "
   ]
  },
  {
   "cell_type": "code",
   "execution_count": null,
   "metadata": {},
   "outputs": [],
   "source": [
    "# a)\n",
    "\n",
    "using Plots\n",
    "\n",
    "function trayectoria(θ, v)\n",
    "    θ = θ/180*π #conversión a radianes \n",
    "    g = 9.8\n",
    "    T = v*sin(θ)*2/g\n",
    "    dt = T/600\n",
    "    t = 0:dt:T\n",
    "    x = v*cos(θ) .* t \n",
    "    y = v*sin(θ) .* t .- g/2 .* t.^2\n",
    "    vx = v*cos(θ) .+ 0.0 * t \n",
    "    vy = v*sin(θ) .- g .* t\n",
    "    return t,x,y,vx,vy\n",
    "end"
   ]
  },
  {
   "cell_type": "code",
   "execution_count": null,
   "metadata": {},
   "outputs": [],
   "source": [
    "# b)\n",
    "\n",
    "t,x,y,vx,vy = trayectoria(60,50)\n",
    "\n",
    "plot(x,y,label=\"y(x)\")\n",
    "plot!(xlab=\"x [m]\",ylab=\"y [m]\")"
   ]
  },
  {
   "cell_type": "code",
   "execution_count": null,
   "metadata": {},
   "outputs": [],
   "source": [
    "# c)\n",
    "\n",
    "plot(t,vx,label=\"vx(t)\")\n",
    "plot!(t,vy,label=\"vy(t)\")\n",
    "plot!(xlab=\"t [s]\",ylab=\"[m/s]\")"
   ]
  },
  {
   "cell_type": "markdown",
   "metadata": {},
   "source": [
    "### Ejercicio 16:\n",
    "\n",
    "Se pretende calcular las sumas $S_N = \\sum^N_{k=1} a_k$, donde $N$ es un número natural. \n",
    "Llamemos $S'_N$ al valor numéricamente calculado que se logra de hacer $(S_{N-1} + a_N)$ utilizando números de punto flotante de 32 bits.\n",
    "Sea $S_N =\\sum^N_{k=1} \\frac{1}{k}$. Mostrar que $S'_N$ se\n",
    "estaciona a partir de algún $N$ suficientemente grande. \n",
    "Deducir que a partir de entonces $S_N \\neq S'_{N}$ . Hacer\n",
    "un programa que determine el valor a partir del cual $S'_N$ se estaciona."
   ]
  },
  {
   "cell_type": "code",
   "execution_count": null,
   "metadata": {},
   "outputs": [],
   "source": [
    "S = 0\n",
    "k = 1\n",
    "while Float32(S+1/k) > Float32(S)\n",
    "    S += 1/k\n",
    "    k += 1    \n",
    "end\n",
    "Float64(S),k"
   ]
  },
  {
   "cell_type": "markdown",
   "metadata": {},
   "source": [
    "### Ejercicio 17:\n",
    "Para calcular un valor aproximado de $\\pi$ utilizaremos la siguiente serie infinita alternante:\n",
    "\n",
    "$\\frac{\\pi}{4} = \\sum_{n=0}^{\\infty} \\frac{(-1)^n}{2n+1}$\n",
    "\n",
    "Recordemos que una cota superior para el error cometido al truncar una serie alternante (de valor absoluto decreciente) está dado por el valor absoluto del primer término despreciado. \n",
    "Escriba un programa que ingrese el número de cifras decimales exactas con que se desea el valor de π (entre 1 y 5 cifras) y devuelva en pantalla el número de términos que deben incluirse en la serie de arriba para obtener dicha precisión y a renglón siguiente el valor de π obtenido de esta forma, truncado el resultado al número de cifras pedido."
   ]
  },
  {
   "cell_type": "markdown",
   "metadata": {},
   "source": [
    "##### Teorìa de la respuesta\n",
    "Si truncamos a partir del termino $N$-ésimo, la cota del error es $1/(2N+1)$. Para obtener $s$ digitos decimales significativos, dicha cota tiene que ser menor a $10^{-s}$ o, equivalentemente, si $N>(10^{-s}-1)/2$."
   ]
  },
  {
   "cell_type": "code",
   "execution_count": null,
   "metadata": {},
   "outputs": [],
   "source": [
    "println(\"Ingrese el número s de dígitos decimales significativos deseados:\")\n",
    "s = parse(Int64, readline())\n",
    "@assert s >= 0 && s <= 5\n",
    "\n",
    "N = ceil((10^s-1)/2)\n",
    "\n",
    "S = 0.\n",
    "n = 0.\n",
    "signo = 1\n",
    "while n<N\n",
    "    S += signo/(2*n+1)\n",
    "    n += 1\n",
    "    signo = -signo\n",
    "end\n",
    "\n",
    "println(\"La suma se trunca en el tèrmino N = \",N)\n",
    "println(\"y la aprox. de pi es = \",4.0*S)\n",
    "println(\"y de pi/4 es = \",S)\n",
    "println(\"y el error de pi es = \",abs(π-4.0*S))\n",
    "println(\"y el error de pi/4 es = \",abs(π/4.0-S))"
   ]
  },
  {
   "cell_type": "markdown",
   "metadata": {},
   "source": [
    "### Ejercicio 18:\n",
    "\n",
    "Escribir un programa que pida una contraseña de tres dígitos y permita leer tres intentos.\n",
    "Si el usuario da la contraseña correcta responde *Correcto* y queda inactivo, con este mensaje.\n",
    "En caso contrario el programa escribe *Lo siento, contraseña equivocada* y se cierra de inmediato."
   ]
  },
  {
   "cell_type": "code",
   "execution_count": null,
   "metadata": {},
   "outputs": [],
   "source": [
    "function contrasenia()\n",
    "    for i = 1:3\n",
    "        println(\"Ingrese contraseña:\")\n",
    "        if readline() == \"123\"\n",
    "            println(\"Correcto\")\n",
    "            return\n",
    "        end\n",
    "    end\n",
    "    println(\"Lo siento, contraseña equivocada\")\n",
    "end\n",
    "contrasenia()"
   ]
  },
  {
   "cell_type": "markdown",
   "metadata": {},
   "source": [
    "### Problema 19:\n",
    "Escribir un programa que, dado un año y el nombre de un mes, **saque por pantalla** el número de días del mes (tenga en cuenta que algunos años son bisiestos)."
   ]
  },
  {
   "cell_type": "code",
   "execution_count": null,
   "metadata": {},
   "outputs": [],
   "source": [
    "using Dates\n",
    "\n",
    "mesnum = Dict{String,Int64}()\n",
    "mesnum[\"enero\"]=31\n",
    "mesnum[\"febrero\"]=28\n",
    "mesnum[\"marzo\"]=31\n",
    "mesnum[\"abril\"]=30\n",
    "mesnum[\"mayo\"]=31\n",
    "mesnum[\"junio\"]=30\n",
    "mesnum[\"julio\"]=31\n",
    "mesnum[\"agosto\"]=31\n",
    "mesnum[\"setiembre\"]=30\n",
    "mesnum[\"septiembre\"]=30\n",
    "mesnum[\"octubre\"]=31\n",
    "mesnum[\"noviembre\"]=30\n",
    "mesnum[\"diciembre\"]=31\n",
    "\n",
    "println(\"Ingrese el mes:\")\n",
    "mes = lowercase(readline())\n",
    "if !haskey(mesnum,mes)\n",
    "    println(\"Mes inválido\")\n",
    "else\n",
    "    println(\"Ingrese el año:\")\n",
    "    anio = parse(Int64, readline())\n",
    "    @assert anio >= 0\n",
    "    if mes == \"febrero\" && anio % 4 == 0 && (!(anio % 100 == 0) || anio % 400 == 0)\n",
    "        println(\"El mes de \",mes,\" tiene \",mesnum[mes]+1,\" días.\")\n",
    "    else\n",
    "        println(\"El mes de \",mes,\" tiene \",mesnum[mes],\" días.\")\n",
    "    end        \n",
    "end"
   ]
  },
  {
   "cell_type": "markdown",
   "metadata": {},
   "source": [
    "### Problema 20:\n",
    "\n",
    "Escriba un programa que genere secuencialmente 10 archivos con nombre de salida diferentes (dependiendo del valor que tome algún parámetro). \n",
    "En cada archivo, escriba bajo la forma de dupla \n",
    "\n",
    "    x f(x)\n",
    "    \n",
    "una función evaluada en N puntos y que también dependa del parámetro (por ejemplo $y = sin(πωx)$, con $ω = 1, 2, 3, \\ldots$). \n",
    "El loop debe cerrar cada archivo luego de escribir en él.\n",
    "\n",
    "En el mismo programa o en otro, construya otro loop que abra secuencialmente los archivos y que (sin borrar los datos escritos) agregue otros N pares de duplas de la función."
   ]
  },
  {
   "cell_type": "code",
   "execution_count": null,
   "metadata": {},
   "outputs": [],
   "source": [
    "mkpath(\"tmp\")\n",
    "\n",
    "N = 100\n",
    "\n",
    "for w = 1:10\n",
    "    open(\"tmp/datos$w.dat\", \"w\") do f\n",
    "        for x = 0:1/N:1\n",
    "            println(f,x,\" \",sin(π*w*x))\n",
    "        end\n",
    "    end\n",
    "end\n",
    "\n",
    "for w = 1:10\n",
    "    open(\"tmp/datos$w.dat\", \"a\") do f\n",
    "        for x = 1+1/N:1/N:2\n",
    "            println(f,x,\" \",sin(π*w*x))\n",
    "        end\n",
    "    end\n",
    "end\n",
    "\n",
    "rm(\"tmp\",recursive=true)"
   ]
  }
 ],
 "metadata": {
  "@webio": {
   "lastCommId": null,
   "lastKernelId": null
  },
  "kernelspec": {
   "display_name": "Julia 1.5.3",
   "language": "julia",
   "name": "julia-1.5"
  },
  "language_info": {
   "file_extension": ".jl",
   "mimetype": "application/julia",
   "name": "julia",
   "version": "1.5.3"
  },
  "latex_envs": {
   "LaTeX_envs_menu_present": true,
   "autoclose": false,
   "autocomplete": true,
   "bibliofile": "biblio.bib",
   "cite_by": "apalike",
   "current_citInitial": 1,
   "eqLabelWithNumbers": true,
   "eqNumInitial": 1,
   "hotkeys": {
    "equation": "Ctrl-E",
    "itemize": "Ctrl-I"
   },
   "labels_anchors": false,
   "latex_user_defs": false,
   "report_style_numbering": false,
   "user_envs_cfg": false
  }
 },
 "nbformat": 4,
 "nbformat_minor": 4
}
