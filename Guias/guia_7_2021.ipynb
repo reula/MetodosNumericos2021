{
 "cells": [
  {
   "cell_type": "markdown",
   "metadata": {},
   "source": [
    "# Guía 7 Métodos Numéricos 2021"
   ]
  },
  {
   "cell_type": "code",
   "execution_count": null,
   "metadata": {},
   "outputs": [],
   "source": [
    "using Plots"
   ]
  },
  {
   "cell_type": "markdown",
   "metadata": {},
   "source": [
    "## Problema 1\n",
    "\n",
    "Escriba funciones que permitan realizar un paso de integración de la ecuación,\n",
    "\n",
    "$$\n",
    "\\frac{dy}{dt} = f(t,y,p),\\;\\;\\;\\;\\;\\; a\\leq t \\leq b,\\;\\;\\;\\;\\; y(a) = \\alpha\n",
    "$$\n",
    "\n",
    "de una función arbitraria $f(t,x,p)$ de acuerdo a los métodos de Euler, y Runge Kutta de 2° orden (RK2) y Runge Kutta de 4° orden (RK4). \n",
    "Las funciones deben admitir como variables: $f(t,x,p)$, $x_0$ (el valor inicial), $t_0$ y $h$ (el paso de integración), el campo $p$ es para permitir parámetros en la función. \n",
    "Cada función debe retornar el valor de la variable luego del paso de integración, es decir la aproximación a $x(t + h)$.\n",
    "\n",
    "Utilizando estas funciones escriba otra función que permita hacer, tomando como variable cualquiera de los métodos, la integración de una función genérica en un intervalo $[a,b]$ arbitrario. Esta función deberá admitir como variables, además de las anteriores, la función de un paso de cada método, y el intervalo de integración.\n",
    "La función debe retornar dos vectores, uno con los valores $t_i = t_0 + i*h$ y otro con los valores aproximados de $x_i \\approx x(t_i)$.\n",
    "\n",
    "**Ayuda:** Dejamos como ejemplo la implementación del método de Euler."
   ]
  },
  {
   "cell_type": "code",
   "execution_count": null,
   "metadata": {},
   "outputs": [],
   "source": [
    "\"\"\"\n",
    "    Euler(f,y0,t0,h,p)\n",
    "\n",
    "Hace un paso del método de Euler explícito: \n",
    "    f = función que nos da la tangente como en (y,t,p)\n",
    "    y0 = y inicial\n",
    "    t0 = t inicial\n",
    "    h = dt\n",
    "    p = parametros opcionales.\n",
    "\n",
    "# Examples\n",
    "```julia-repl\n",
    "julia> \n",
    "function f(y,t,p)\n",
    "    return -p[1]*y + sin(2π*t) + p[2]\n",
    "end\n",
    "h= 0.1\n",
    "Euler(f,1,0,h,[1,2])\n",
    "1.1\n",
    "```\n",
    "\"\"\"\n",
    "function Euler(f,y0,t0,h,p)\n",
    "    return y0 + h*f(y0,t0,p)\n",
    "end"
   ]
  },
  {
   "cell_type": "code",
   "execution_count": null,
   "metadata": {},
   "outputs": [],
   "source": [
    "\"\"\"\n",
    "    ODEproblem(Method,f,y0,intervalo,N,p) \n",
    "\n",
    "Hace una evolución de una ecuación ordindaria dada por f(y,t) usando Method.\n",
    "    Method: algún método de integración, por ejemplo Euler(f,y0,t0,h)\n",
    "    f = función que nos da la tangente como en (y,t)\n",
    "    y0 = y inicial\n",
    "    intervalo = (t_inicial, t_final)\n",
    "    N = número de pasos\n",
    "    p = parámetros opcionales\n",
    "\n",
    "# Examples\n",
    "```julia-repl\n",
    "julia> \n",
    "function f(y,t,p)\n",
    "    return -p[1]*y + sin(2π*t) + p[2]\n",
    "end\n",
    "y0 = 0.0\n",
    "intervalo = (0,1)\n",
    "t,y = ODEproblem(Euler,f,y0,intervalo,101,[1,2])\n",
    "```\n",
    "\"\"\"\n",
    "function ODEproblem(Method,f,y0,intervalo,N,p)\n",
    "    a,b = intervalo\n",
    "    h = (b-a)/(N-1)\n",
    "    y = zeros(N)\n",
    "    t = zeros(N)\n",
    "    y[1] = y0\n",
    "    t[1] = a\n",
    "    for i in 2:N\n",
    "        t[i] = t[i-1] + h\n",
    "        y[i] = Method(f,y[i-1],t[i-1],h,p)\n",
    "    end\n",
    "    return (t[:] ,y[:])\n",
    "end"
   ]
  },
  {
   "cell_type": "markdown",
   "metadata": {},
   "source": [
    "## Problema 2\n",
    "\n",
    "Utilizando las funciones del **Problema 1** resuelva con los tres métodos dados en el teórico (Euler, RK2 y RK4) el siguiente problema de valores iniciales:\n",
    "$$\n",
    "\\frac{dy}{dt} = -y+\\sin(2\\pi t), \\;\\;\\;\\;\\;\\; 0 \\le t \\le 1\\; , \n",
    "\\;\\;\\;\\;\\; y(0) = 1.0\n",
    "$$\n",
    "en el intervalo $0 \\le t \\le 1$ con un paso de integración $h=0.1$. \n",
    "\n",
    "Grafique tanto la solución obtenida y compare con la exacta: \n",
    "\n",
    "$$\n",
    "x_e(t)=\\Bigl(1+\\frac{2\\pi}{1+4\\pi^2}\\Bigr)e^{-t}+\\frac{\\sin(2\\pi t)-2\\pi\n",
    "    \\cos(2\\pi t)}{1+4\\pi^2},\n",
    "$$\n",
    "\n",
    "Grafique el error global, $\\epsilon(t) = |y(t)-y_e(t)|$"
   ]
  },
  {
   "cell_type": "code",
   "execution_count": null,
   "metadata": {},
   "outputs": [],
   "source": []
  },
  {
   "cell_type": "markdown",
   "metadata": {},
   "source": [
    "# Problema 3\n",
    "Considere el problema de valor inicial:\n",
    "$$\n",
    "\\frac{dy}{dx} = \\sin{(y)},\\;\\;\\;\\;\\;\\; 0\\le t\\le 20.0, \\;\\;\\;\\;\\; y(0)=\\alpha\n",
    "$$\n",
    "Resuélvalo para los siguientes valores iniciales $\\alpha_1=0.5$, $\\alpha_2=2.0$, $\\alpha_3= \\pi$, $\\alpha_4=3.6$ $\\alpha_5=5.5$ y $\\alpha_6=2\\pi$, en todos los casos con $h=0.1$.\n",
    "Para cada valor inicial genere un archivo de salida como el indicado en el problema 1 (solo para RK4). \n",
    "Luego grafique simultáneamente las seis curvas aproximadas a las soluciones de los seis problemas de valores iniciales (no olvide hacer un gráfico de calidad, completo). \n",
    "Analice."
   ]
  },
  {
   "cell_type": "code",
   "execution_count": null,
   "metadata": {},
   "outputs": [],
   "source": []
  },
  {
   "cell_type": "markdown",
   "metadata": {},
   "source": [
    "# Problema 4\n",
    "**Método de Runge-Kutta de orden 4**\n",
    "\n",
    "Muestre que la elección dada en el teórico para los pesos $\\vec{b}$, los nodos $\\vec{c}$ y la matriz $A$ para el método RK4:\n",
    "\\begin{eqnarray}\n",
    "\\vec{b}&=&(1/6,1/3,1/3,1/6) \\\\\n",
    "\\vec{c}&=&(0,1/2,1/2,1) \\\\\n",
    "a_{2,1}&=&1/2 \\\\\n",
    "a_{3,2}&=&1/2 \\\\\n",
    "a_{4,3}&=&1\n",
    "\\end{eqnarray}\n",
    "conduce a las ecuaciones RK4 \"clásicas\" dadas en clase."
   ]
  },
  {
   "cell_type": "code",
   "execution_count": null,
   "metadata": {},
   "outputs": [],
   "source": []
  },
  {
   "cell_type": "markdown",
   "metadata": {},
   "source": [
    "# Problema 5\n",
    "Considere el problema de valores iniciales para la ecuación de la dinámica de un péndulo simple de longitud $l$\n",
    "$$\n",
    "\\frac{d^2\\theta}{d t^2} = - \\frac{g}{l} \\sin{(\\theta)}, \\quad\n",
    "\\theta(0)=\\theta_0, \\quad \\frac{d\\theta}{d t}(0)= \\dot{\\theta}_0,\n",
    "$$\n",
    "donde $g$ es la acelaración de la gravedad. Definiendo  $u= \\dot{\\theta}$ esta ecuación de segundo orden se puede escribir como un sistema de dos ecuaciones de primer orden\n",
    "\\begin{eqnarray}\n",
    "\\frac{d\\theta}{d t} &=& u \\hspace{5cm} (1)\\\\\n",
    "\\frac{d u}{d t} &=& - \\frac{g}{l} \\sin{(\\theta)}\n",
    "\\end{eqnarray}\n",
    "mientras que las condiciones iniciales transformadas quedan $(u(0),\\theta(0))=(\\dot{\\theta}_0,\\theta_0)$.\n",
    "\n",
    "Resuelva este sistema de dos ecuaciones diferenciales ordinarias acopladas con el método RK4 para $g=10 m/s^2$ y $l=1 m$. \n",
    "\n",
    "1. Grafique $\\theta$ vs. $t,$ para $0\\le t\\le 10,$ con las siguientes condiciones iniciales: a) $u(0)=0$ y $\\theta(0)=0.5$ y b) $u(0)=0$ y $\\theta(0)=0.25$.\n",
    "\n",
    "2. Calcule la energía del sistema en cada paso. Para las condiciones del inciso anterior grafique la energía vs. $t$. Analice la conservación para distintos valores de $h$.\n",
    "\n",
    "3. Para las condiciones iniciales $\\theta(0)=\\theta_0,$ y $u(0)=0$, las ecuaciones de movimiento del péndulo se pueden aproximar por las siguientes:\n",
    "\\begin{eqnarray}\n",
    "\\frac{d\\theta}{d t} &=& u \\hspace{5cm} (2)\\\\\n",
    "\\frac{d u}{d t} &=& - \\frac{g}{l} \\theta\n",
    "\\end{eqnarray}\n",
    "cuando $\\theta_0\\ll 1$.\n",
    "Las ecuaciones (2) admiten solución exacta $\\theta(t) = \\theta_0 \\cos(\\sqrt{10}t)$.\n",
    "Compare la solución exacta con aproximaciones numéricas $\\theta_{\\mathrm{num}}(t)$ de las ecuaciones (1) y (2)  obtenidas con el método RK4. \n",
    "Para ello, grafique la diferencia $\\theta_{\\mathrm{num}}(t)-\\theta_0 \\cos(\\sqrt{10}t)$ en $0\\le t\\le 10$ para los casos $\\theta_0=1$ y $\\theta_0=10^{-2}$. \n",
    "\n",
    "**Ayuda:** Note que $y(t)\\in \\mathbb{R}^2$ y $f(t,y)\\in \\mathbb{R}^2$ donde $y=(y_1,y_2)=(\\theta,u)$ y $f(t,y)=(f_1(t,y),f_2(t,y))$ con $f_1(t,y)=y_1$ y $f_2(t,y)=-\\frac{g}{l}\\sin(y_1)$."
   ]
  },
  {
   "cell_type": "code",
   "execution_count": null,
   "metadata": {},
   "outputs": [],
   "source": []
  },
  {
   "cell_type": "markdown",
   "metadata": {},
   "source": [
    "# Problemas Complementarios"
   ]
  },
  {
   "cell_type": "markdown",
   "metadata": {},
   "source": [
    "## Problema C.1\n",
    "Use el método del disparo para resolver los siguientes problemas de \n",
    "frontera con una tolerancia de $10^{-5}$. Se da un valor tentativo inicial de $h$ \n",
    "y la solución exacta  para comparación.\n",
    " \n",
    "1. $1\\leq t\\leq 2$, comience con $h=0.5$\n",
    "$$\n",
    "\\ddot{x}\\,=\\,-(\\dot{x})^2 \\,,\\;\\;\\;x(1)=0\\;,\\;\\;x(2)=\\ln{(2)} \\,.\n",
    "$$\n",
    "Solución exacta $x=\\ln{(t})$.\n",
    "\n",
    "2. $-1\\leq t\\leq 0$, comience con $h=0.25$\n",
    "$$\n",
    "\\ddot{x}\\,=\\,2 x^3\\,,\\;\\;\\;x(-1)=\\frac{1}{2}\\;,\\;\\;x(0)=\\frac{1}{3} \\,.\n",
    "$$\n",
    "Solución exacta $x=1/(t+3)$.\n",
    "\n",
    "3. $1\\leq t\\leq 2$, comience con $h=0.05$\n",
    "$$\n",
    "\\ddot{x}\\,=\\,\\frac{(t\\,\\dot{x} )^2\\,-9 x^2+4 t^6}{t^5},\\;\\;\\;x(1)=0\\;,\\;\\;x(2)=\\ln{(256)} \\,.\n",
    "$$\n",
    "Solución exacta $x=t^3\\,\\ln{(t})$.\n",
    "\n",
    "**Ayuda:** Utilice el método de la bisección para encontrar la raíz de $F$."
   ]
  },
  {
   "cell_type": "code",
   "execution_count": null,
   "metadata": {},
   "outputs": [],
   "source": []
  },
  {
   "cell_type": "markdown",
   "metadata": {},
   "source": [
    "## Problema C.2\n",
    "Considere la siguiente ecuación diferencial\n",
    "$$\n",
    "y^{\\prime \\prime} = \\frac{1}{8} \\left( 32 + 2 x^3 - y y' \\right)    \\qquad \\qquad \\mbox{para }\n",
    "1 \\le x \\le 3\n",
    "$$\n",
    "1. Utilice el método RK4 en el intervalo $1 \\le x\\le 3$ para resolver esta ecuación con las condiciones iniciales $y(1) = 17$, $y'(1) = 0$.\n",
    "Encuentre, además $y'(3)$.\n",
    "\n",
    "2. Repita el inciso anterior, pero con las condiciones iniciales $y(1) = 17$, $y'(1) = -40$.\n",
    "\n",
    "3. Resuelva la misma ecuación diferencial con las condiciones de borde $y(1) = 17$, $y' (3) = 0$ en $N=400$ puntos equiespaciados de $x\\in [1,3]$ usando el método de disparo. Para ello, combine el método de la bisección de tolerancia $10^{-10}$ con la información de los incisos anteriores. Grafique la solución $y$ y su derivada $y'$."
   ]
  },
  {
   "cell_type": "code",
   "execution_count": null,
   "metadata": {},
   "outputs": [],
   "source": []
  },
  {
   "cell_type": "markdown",
   "metadata": {},
   "source": [
    "## Problema C.3\n",
    "La llamada **ecuación logística**\n",
    "$$\n",
    "\\frac{dN}{dt}= r\\,N \\left(1-\\frac{N}{K}\\right)\n",
    "$$\n",
    "describe el crecimiento autolimitado de una población dada (suponiendo que no\n",
    "interactúa con otras especies y que tiene fuentes limitadas de alimentos). Fue\n",
    "propuesta por Verhulst en 1838 y permite describir al menos cualitativamente\n",
    "varios fenómenos poblacionales observados en la naturaleza. En esta ecuación\n",
    "$N(t)$ es el número de individuos de la colonia al tiempo $t$ y $K$ es una\n",
    "constante positiva.\n",
    "\n",
    "Una solución $N^*$ se dice estacionaria si se satisface que $dN^*/dt=0$, y por\n",
    "ende no cambia en el tiempo. Para esta ecuación es fácil verificar que\n",
    "sólo existen dos soluciones estacionarias: $N_1^*=0$ y $N_2^*=K$.\n",
    "\n",
    "Determine cuál de las dos soluciones estacionarias es estable y cuál inestable\n",
    "resolviendo numéricamente la ecuación diferencial con el método\n",
    "Runge-Kutta de cuarto orden para $r=2$, $K=100$, en el intervalo $0\\le t \\le 50$\n",
    "con $h=0.1$ y considerando cinco condiciones iniciales diferentes: a) $N(0)= 0$,\n",
    "b) $N(0)=2$, c) $N(0)=50$, d) $N(0)= 120$ y d) $N(0)=200$.  Grafique\n",
    "simultáneamente las cinco soluciones $t$ vs.  $N(t)$ en el intevalo $0\\le t\\le\n",
    "50$ en un gráfico completo."
   ]
  },
  {
   "cell_type": "code",
   "execution_count": null,
   "metadata": {},
   "outputs": [],
   "source": []
  },
  {
   "cell_type": "markdown",
   "metadata": {},
   "source": [
    "## Problema C.3\n",
    "   \n",
    "El objeto de este problema es familiarizarse con el uso de una librería para resolver un sistema de ecuaciones en derivadas parciales. \n",
    "    Para ello les pedimos que reproduzca en su notebook el **ejemplo 2** de esta página: https://diffeq.sciml.ai/stable/tutorials/ode_example/\n",
    "    Se trata del atractor de Lorenz, un sistema que excibe caos y que es una simplificación *extrema* de un problema de climatología. \n",
    "    Luego de implementarlo, juegue cambiando las condiciones iniciales y/o parámetros. Cambie los métodos de integración. Esta librería tiene decenas de distintos métodos.\n",
    "    \n",
    "**Nota:** Al comienzo tiene que poner: `using Plots, OrdinaryDiffEq`"
   ]
  },
  {
   "cell_type": "code",
   "execution_count": null,
   "metadata": {},
   "outputs": [],
   "source": []
  }
 ],
 "metadata": {
  "@webio": {
   "lastCommId": null,
   "lastKernelId": null
  },
  "kernelspec": {
   "display_name": "Julia 1.6.1",
   "language": "julia",
   "name": "julia-1.6"
  },
  "language_info": {
   "file_extension": ".jl",
   "mimetype": "application/julia",
   "name": "julia",
   "version": "1.6.1"
  }
 },
 "nbformat": 4,
 "nbformat_minor": 4
}
