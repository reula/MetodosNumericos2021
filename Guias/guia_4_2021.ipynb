{
 "cells": [
  {
   "cell_type": "markdown",
   "metadata": {},
   "source": [
    "# Problema 1\n",
    "1. Para las funciones $f(x) = \\ln (x+1)$ y $g(x) = \\sqrt{x+1}$ y los puntos $x_0 = 0$, $x_1=0.6$ y $x_2=0.9$, construya analíticamente los polinomios interpolantes de Lagrange de grado 1 y 2 que aproximan la función en $x=0.45$.\n",
    "\n",
    "2. Encuentre los errores absolutos y relativos correspondientes.\n",
    "\n",
    "3. Grafique ambas funciones, sus polinomios interpolantes y la aproximación de Taylor de grado 2 (entorno a $x_0$) en el rango dado."
   ]
  },
  {
   "cell_type": "markdown",
   "metadata": {},
   "source": [
    "# Problema 2\n",
    "1. Escriba una función que evalúe el **polinomio interpolante de Lagrange** $PL$ en un punto $x$ con $x_0 < x < x_n$ siendo $(x_i,y_i)$ para $i=0,...,n$ los puntos a interpolar.\n",
    "La función debe tomar como argumentos de entrada: *i)* el valor $x$, *ii)* un arreglo de valores $x_i$ y *iii)* un arreglo de valores $y_i$, y debe retornal el valor $PL(x)$.\n",
    "\n",
    "2. Para cada función del **Problema 1**, realice un gráfico de $PL$ sobre $N=200$ puntos equidistantes en el intérvalo $[x_0,x_n]$ interpolando los puntos $(x_i,y_i)$. Incluya en curvas punteadas la función y en símbolos para los puntos interpolantes.\n",
    "\n",
    "3. Gráfique la diferencia entre los polinomios y las funciones."
   ]
  },
  {
   "cell_type": "markdown",
   "metadata": {},
   "source": [
    "# Problema 3\n",
    "Se desea aproximar $\\cos(x)$ en el intervalo $[0,1]$ con un error absoluto menor a $1\\times 10^{-7}$ para todo $x \\in [0,1]$. \n",
    "1. Usando el teorema del error de la interpolación polinomial, estime el número de puntos de interpolación que son necesarios para conseguir el máximo error absoluto mencionado.\n",
    "2. Grafique el error absoluto en el intervalo en cuestión para tres casos particulares de $\\{x_i\\}$: *i)* puntos equidistantes $x_i=i/n$, *ii)* puntos al azar y *iii)* puntos distribuidos heterogéneamente $x_i=1/i$."
   ]
  },
  {
   "cell_type": "markdown",
   "metadata": {},
   "source": [
    "# Problema 4\n",
    "Construya analíticamente el polinomio interpolante de Newton para las siguientes funciones:\n",
    "\n",
    "1. $f(x) = \\exp (2x) \\cos(3x)$ para $x_0=0$, $x_1=0.3$, $x_2=0.6$, $n=2$ y,\n",
    "2. $g(x) = \\ln(x)$, $x_0=1$ para $x_1=1.1$, $x_2=1.3$, $x_3=1.4$, $n=3$.\n",
    "\n",
    "y dé una cota del error absoluto en el intervalo $[x_0,x_n]$ según corresponda."
   ]
  },
  {
   "cell_type": "markdown",
   "metadata": {},
   "source": [
    "# Problema 5\n",
    "1. Escriba una función que evalúe el **polinomio interpolante de Netwon** $PN$ en un punto $x$ con $x_0 < x < x_n$ siendo $(x_i,y_i)$ para $i=0,...,n$ los puntos a interpolar.\n",
    "La función debe tomar como argumentos de entrada: *i)* el valor $x$, *ii)* un arreglo de valores $x_i$ y *iii)* un arreglo de valores $y_i$, y debe retornal el valor $PL(x)$.\n",
    "\n",
    "2. Grafique los polinomios interpolantes de Newton para las funciones del **problema 4** en $N=200$ puntos equidistantes en el intervalo $[x_0,x_n]$ correspondiente. Incluya en el grafico las curvas de las funciones y, con símbolos, los puntos de interpolación.\n",
    "\n",
    "3. Repita 1. y 2. pero usando puntos de interpolación determinados por $n=80$ valores equidistantes de $x_i$ en $[0,0.6]$ para $f$ y $[1,1.4]$ para $g$.\n",
    "\n",
    "4. Repita 3. pero usando `BigFloat` en vez de `Float64`.\n",
    "\n",
    "5. Interprete lo observado."
   ]
  },
  {
   "cell_type": "markdown",
   "metadata": {},
   "source": [
    "# Problema 6\n",
    "Suponga que se conoce la función $f(x) = \\frac{1}{1 + 25 x^2}$ en los puntos $x_i = -1 + (i-1) 2 / n$ para $i=1,n+1$; que están dados en el intervalo $[-1,1]$.\n",
    "1. Calcule la interpolación por el **método de Lagrange** para los valores de $n=10, 20, 40$ y grafique $f$ y los polinomios en los rangos $x=[-1,1]$ e $y=[-1.5,1.5]$ evaluados en 200 puntos equidistantes.\n",
    "2. Grafique el error $E_n(x)=|f(x)-p_n(x)|$ para cada caso en escala logarítmica para las ordenadas (eje $y$).\n",
    "\n",
    "**Nota:** En este problema se observa el llamado fenómeno de Runge en el que la interpolación por polinomios usando puntos equiespaciados da resultados divergentes.\n",
    "\n",
    "3. ¿Por qué no hay contradicción con el teorema de aproximación de Weierstrass?"
   ]
  },
  {
   "cell_type": "markdown",
   "metadata": {},
   "source": [
    "# Ejercicios Complementarios\n",
    "\n",
    "\n",
    "## Problema 1\n",
    "**Evaluacion de polinomios y su derivada: Metodo de Horner.**\n",
    "\n",
    "Dado el siguiente polinomio\n",
    "$$\n",
    "p(x) = -10 + 5 x - 12 x^2  + 6 x^3  - 2 x^4  + x^5\n",
    "$$\n",
    "1. Grafique el mismo y observe que posee una única raíz real positiva, encuentre la misma utilizando el método de Newton-Raphson.\n",
    "2. Evalúe el polinomio y su derivada en una subrutina utilizando el algoritmo de Horner."
   ]
  },
  {
   "cell_type": "markdown",
   "metadata": {},
   "source": [
    "## Problema 1bis\n",
    "\n",
    "Un polinomio de grado $N$ es equivalente a un vector de $N+1$ componentes, sus coefficientes. Es decir, dado $a = (a_0,a_1, \\ldots, a_{N-1}, a_N)$ su polinomio asociado\n",
    "es: \n",
    "\n",
    "$$\n",
    "P(x,a) := \\sum_{n=0}^{N} a_n x^n = a_0 + a_1x + a_2x^2 + \\ldots + a_Nx^N\n",
    "$$\n",
    "\n",
    "En este problema veremos algunas formas de evaluar polinomios y experimentar cuáles son más eficiente desde el punto de vista numérico.\n",
    "\n",
    "1. Dado un vector arbitrario de coeficientes, defina la función que evalua el polinomio de la manera usual, es decir con un `for` que acumule los términos de la suma.\n",
    "    \n",
    "2. Escriba otra función que defina el vector $X := (1,x,x^2, \\ldots, x^N)$ y realize el producto escalar con el vector de coeficientes. Vea distintas formas de generar el vector $X$.\n",
    "    \n",
    "3. Use el método de Horner para definir la función.\n",
    "    \n",
    "4. Use el macro `@time` para comparar los distintos métodos. Tenga en cuenta de correr la celda al menos dos veces ya que en la primera ejecución toma el tiempo de compilado. Alternativamente utilize el paquete `BenchmarkTools`. "
   ]
  },
  {
   "cell_type": "code",
   "execution_count": null,
   "metadata": {},
   "outputs": [],
   "source": [
    "# Para este problema necesita instalar\n",
    "using Pkg\n",
    "Pkg.add(\"BenchmarkTools\")"
   ]
  },
  {
   "cell_type": "markdown",
   "metadata": {},
   "source": [
    "## Problema 2\n",
    "**Error  de la interpolación polinomial para puntos equiespaciados.**\n",
    "\n",
    "Considere el siguiente **teorema** dado en el teórico. \n",
    "Existe $\\zeta$ dentro del intervalo de la interpolación tal que si la función es $n+1$ veces contínuamente diferenciable entonces, \n",
    "\n",
    "$$\n",
    "f(x) - P_n(x) = \\frac{f^{(n+1)}(\\zeta)}{(n+1)!}\\prod_{i=0}^{n} (x-x_i).\n",
    "$$\n",
    "\n",
    "Use el teorema para demostrar el siguiente **corolario**.\n",
    "\n",
    "1. Sea $f(x)\\, \\varepsilon \\, C_{[a,b]}^{(n+1)}$ tal que su derivada $n+1$ es acotada en $[a,b]$.\n",
    "Es decir, $\\exists M>0 : |f^{(n+1)}(x) |< M \\;\\forall \\,x \\,\\varepsilon [a,b]$.\n",
    "\n",
    "2. Sea $x_i=a + ih \\;; i=0,\\cdots,n$ donde $ h=(b-a)/n$. \n",
    "\n",
    "3. Sea $P_n(x)$ el polinomio interpolante a $f(x)$. \n",
    "Es decir, $P_n(x_i)=f(x_i)\\;,i=0,\\cdots ,n$. \n",
    "\n",
    "Entonces, $\\forall\\;x \\,\\varepsilon [a,b]$ se tiene\n",
    "$$\n",
    "\\left| f(x) - P_n(x)\\right | \\leq \\frac{M}{4 (n+1)}\\;\\left(\\frac{b-a}{n}\\right)^{n+1}.\n",
    "$$"
   ]
  },
  {
   "cell_type": "code",
   "execution_count": null,
   "metadata": {},
   "outputs": [],
   "source": []
  }
 ],
 "metadata": {
  "@webio": {
   "lastCommId": null,
   "lastKernelId": null
  },
  "kernelspec": {
   "display_name": "Julia 1.6.1",
   "language": "julia",
   "name": "julia-1.6"
  },
  "language_info": {
   "file_extension": ".jl",
   "mimetype": "application/julia",
   "name": "julia",
   "version": "1.6.1"
  },
  "latex_envs": {
   "LaTeX_envs_menu_present": true,
   "autoclose": false,
   "autocomplete": true,
   "bibliofile": "biblio.bib",
   "cite_by": "apalike",
   "current_citInitial": 1,
   "eqLabelWithNumbers": true,
   "eqNumInitial": 1,
   "hotkeys": {
    "equation": "Ctrl-E",
    "itemize": "Ctrl-I"
   },
   "labels_anchors": false,
   "latex_user_defs": false,
   "report_style_numbering": false,
   "user_envs_cfg": false
  }
 },
 "nbformat": 4,
 "nbformat_minor": 4
}
