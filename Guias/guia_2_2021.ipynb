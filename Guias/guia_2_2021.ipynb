{
 "cells": [
  {
   "cell_type": "markdown",
   "metadata": {},
   "source": [
    "# Problema\n",
    "\n",
    "Use aritmética de 4 dı́gitos (redondeando) para simular el problema del cálculo computacional de $\\pi-\\tfrac{22}{7}$. \n",
    "Luego calcule el error absoluto y el error relativo de la representción de $\\pi$ y de $\\tfrac{22}{7}$, y el error relativo de la diferencia."
   ]
  },
  {
   "cell_type": "markdown",
   "metadata": {},
   "source": [
    "# Problema\n",
    "\n",
    "Interprete el resultado de los siguientes programas en virtud de la representación\n",
    "de punto flotante de los números reales. Pruebe con distintos tipos de punto flotante\n",
    "\n",
    "    https://docs.julialang.org/en/v1/manual/integers-and-floating-point-numbers/"
   ]
  },
  {
   "cell_type": "code",
   "execution_count": null,
   "metadata": {},
   "outputs": [],
   "source": [
    "# programa \"test igualdad\"\n",
    "\n",
    "#tipo = Float16\n",
    "#tipo = Float32\n",
    "tipo = Float64\n",
    "\n",
    "if (tipo(19.08) + tipo(2.01) == tipo(21.09))\n",
    "    println(\"19.08 + 2.01 = 21.09\")\n",
    "else \n",
    "    println(\"19.08 + 2.01 ≠ 21.09\")\n",
    "end"
   ]
  },
  {
   "cell_type": "code",
   "execution_count": null,
   "metadata": {},
   "outputs": [],
   "source": [
    "# programa \"test igualdad 2\"\n",
    "\n",
    "#tipo = Float16\n",
    "tipo = Float32\n",
    "#tipo = Float64\n",
    "\n",
    "a = tipo(2.05)\n",
    "if (a*tipo(100) == tipo(205))  \n",
    "    println(\"2.05*100 = 205\")\n",
    "else \n",
    "    println(\"2.05*100 ≠ 205\")\n",
    "end"
   ]
  },
  {
   "cell_type": "markdown",
   "metadata": {},
   "source": [
    "Piense el mensaje de este ejercicio, el cual debe tener presente en toda la materia."
   ]
  },
  {
   "cell_type": "markdown",
   "metadata": {},
   "source": [
    "# Problema\n",
    "\n",
    "Escriba un programa que calcule $\\epsilon_m$ de su máquina alrededor del número 1, en simple y doble precisión. Compárelo con `eps(1.)` que es el que brinda Julia. Repita para valores de $\\epsilon_m$ alrededor del número cero."
   ]
  },
  {
   "cell_type": "markdown",
   "metadata": {},
   "source": [
    "# Problema\n",
    "\n",
    "De ejemplos para mostrar que la matemática de punto flotante\n",
    "\n",
    "1. no es cerrada respecto a la suma ni a la multiplicación,\n",
    "\n",
    "2. no es asociativa respecto a la suma ni a la multiplicación,\n",
    "\n",
    "3. la multiplicación no es  distributiva respecto a la suma.\n",
    "\n",
    "Haga el programa correspondiente."
   ]
  },
  {
   "cell_type": "markdown",
   "metadata": {},
   "source": [
    "# Problema\n",
    "\n",
    "Implementar un programa para evaluar la suma (en precisión\n",
    "simple)\n",
    "\n",
    "$$\n",
    "\\sum_{n=1}^{10^7} \\frac{1}{n}\n",
    "$$\n",
    "\n",
    "primero, en el orden usual, y luego, en el orden opuesto. Explique las diferencias\n",
    "obtenidas  e indique cuál es más preciso y su justificación.\n"
   ]
  },
  {
   "cell_type": "markdown",
   "metadata": {},
   "source": [
    "# Problema\n",
    "\n",
    "Efectúe con un programa en simple precisión los siguientes cálculos, matemáticamente equivalentes,\n",
    "\n",
    "1. $1\\,000\\,000 \\times 0.1$\n",
    "\n",
    "2. $\\sum_{k=1}^{1\\,000\\,000} 0.1$\n",
    "\n",
    "3. $\\sum_{n=1}^{1\\,000} \\left( \\sum_{m=1}^{1\\,000} 0.1\\right)$\n",
    "\n",
    "4. Explique las diferencias obtenidas entre resultados finales de 1., 2. y 3. y muestre que el error relativo en 2. es del orden del 1%, pero es mucho menor en 3. Resalte la conclusión de este ejercicio.\n",
    "\n",
    "5. En los puntos 2. y 3. vaya guardando los errores parciales obtenidas cada 1000 iteraciones en el caso 2. y en todas las iteraciones de la suma externa en 3. Ayuda: la suma parcial exacta es `n*100`.\n",
    "\n",
    "\n",
    "6. Grafique los resultados de la mejor manera posible. Ayuda: use en la función `plot` las opciones\n",
    "\n",
    "        xaxis=:log,yaxis=:log,xlab=\"n\",label=\"2.\",legend=:topleft,title=\"Guia 2, Julia, Problema 6\"\n",
    "    \n",
    "    para probar diferentes combianciones de escalas lineales y logarítmicas en los ejes, para incorporar *labels* a los ejes, para ubicar adecuadamente la leyenda y titular el gráfico. \n",
    "\n",
    "7. Según su criterio, usando qué escalas se aprecia mejor el resultado del problema para su análisis?"
   ]
  },
  {
   "cell_type": "markdown",
   "metadata": {},
   "source": [
    "# Problema\n",
    "\n",
    "La fórmula cuadrática nos dice que las raíces de $ax^2 + bx + c = 0$ son\n",
    "$$\n",
    "x_1 = \\frac{-b + \\sqrt{b^2 -4ac}}{2a}, \\qquad \\qquad x_2 =  \\frac{-b - \\sqrt{b^2 -4ac}}{2a} .\n",
    "$$\n",
    "Si $b^2\\gg 4ac$, entonces, cuando $b>0$, el cálculo de $x_1$ involucra en el numerador la sustracción de dos números casi iguales, mientras que si $b<0$, esta situación ocurre para el cálculo de $x_2$. *Racionalizando el numerador* se obtienen las siguientes fórmulas alternativas que no sufren este problema:\n",
    "$$\n",
    "x_1 = \\frac{-2c}{b + \\sqrt{b^2 -4ac}}, \\qquad \\qquad x_2 =  \\frac{2c}{-b + \\sqrt{b^2 -4ac}} ,\n",
    "$$\n",
    "siendo la primera adecuada cuando $b>0$, y la segunda cuando $b<0$.\n",
    "Escriba un programa en precisión simple que utilice la fórmula usual y la *racionalizada* para calcular las raíces de\n",
    "$$\n",
    "x^2 + 6210 x + 1 = 0.\n",
    "$$\n",
    "Interprete los resultados.\n"
   ]
  },
  {
   "cell_type": "markdown",
   "metadata": {},
   "source": [
    "# Problemas complementarios"
   ]
  },
  {
   "cell_type": "markdown",
   "metadata": {},
   "source": [
    "## Problema\n",
    "\n",
    "Considere el siguiente programa y explique por que los valores obtenidos no son iguales:"
   ]
  },
  {
   "cell_type": "code",
   "execution_count": null,
   "metadata": {},
   "outputs": [],
   "source": [
    "mi_tipo = Float32\n",
    "\n",
    "mi_0 = mi_tipo(0.0)\n",
    "mi_1 = mi_tipo(1.0)\n",
    "δ    = mi_tipo(1.0e-8)\n",
    "\n",
    "sum0 = mi_0\n",
    "sum1 = mi_1\n",
    "\n",
    "for i = 1:100000\n",
    "   sum0 = sum0 + δ\n",
    "   sum1 = sum1 + δ\n",
    "end\n",
    "\n",
    "sum0 = sum0 + mi_1\n",
    "\n",
    "println(\"sum0=$sum0 sum1=$sum1\")"
   ]
  },
  {
   "cell_type": "markdown",
   "metadata": {},
   "source": [
    "## Problema\n",
    "\n",
    "Supóngase que $x$ e $y$ son números positivos correctamente redondeados\n",
    "a $t$ dígitos. Mostrar que la magnitud del error relativo de redondeo de\n",
    "$z=x-y$ está acotada por\n",
    "$$\n",
    "\\left| \\frac{\\Delta z}{z} \\right| \\leq \\frac{|x| + |y|}{|x-y|}\\ {\\bf u} + {\\bf u},\n",
    "$$\n",
    "donde ${\\bf u}$ es la unidad de redondeo,  ${\\bf u}=\\frac12 \\epsilon_M$\n",
    "\n",
    "\n"
   ]
  },
  {
   "cell_type": "markdown",
   "metadata": {},
   "source": [
    "## Problema\n",
    "\n",
    "*Problema matemáticamente inestable.* Considere la sucesión\n",
    "\n",
    "\\begin{equation}\n",
    "x_n\\,=\\,\\frac{13}{3} \\,x_{n-1} - \\frac{4}{3}\\, x_{n-2} \\, \\label{eq1}\\tag{1}\n",
    "\\end{equation}\n",
    "\n",
    "1. Demuestre que, eligiendo $x_0=1\\;,x_1=1/3$ tenemos que  $x_n=1/3^n\\;\\forall n\\geq 0$ (sugerencia: use inducción).\n",
    "\n",
    "2. Haga un código que calcule  $x_n$ y su error relativo hasta $n=15$ y discuta el resultado comparando reales de 4 y 8 bytes.\n",
    "\n",
    "3. Defina $y_n=1/x_n$ y encuentre la relación de recurrencia para  $y_n$. Imponga la condición inicial $y_0=1, \\;y_1=3$. Calcule ahora $x_n=1/y_n$ y compare con lo obtenido en el punto anterior. Es este algoritmo estable? discuta.\n",
    "\n",
    "4. Verifique que la solución general de la ecuación $(\\ref{eq1})$ con $x_0,\\,x_1$ arbitrarios es $x_n\\,=\\,\\frac{A}{3^n} \\,+\\,B\\,4^n\\,$. Note que los valores iniciales elegidos en 2. y 3. corresponden al caso particular $A=1$ y $B=0$. Discuta en base a esto los resultados numricos obtenidos."
   ]
  },
  {
   "cell_type": "markdown",
   "metadata": {},
   "source": [
    "## Problema\n",
    "\n",
    "Considere las siguientes integrales\n",
    "$$\n",
    "y_n = \\int_0^1 \\frac{x^n}{x+10}dx\n",
    "$$\n",
    "para $n=1,2,\\dots ,30$. \n",
    "Muestre que\n",
    "$$\n",
    "y_n = \\frac{1}{n} - 10 y_{n-1} \\ ,\n",
    "$$\n",
    "y que  $y_0 = \\ln(11) - \\ln(10)$.\n",
    "Note que empleando esta fórmula de recursión, se obtienen los\n",
    "resultados exactos de las integrales.\n",
    "\n",
    "1. Escriba un programa en precisión simple que a partir de $y_0$, calcule recursivamente $y_i$ para $i=2,\\cdots ,30$. \n",
    "Explique los resultados obtenidos (note que $0 < y_n < 1$).\n",
    "\n",
    "2. Derive una fórmula para evaluar $y_{n-1}$ dado $y_n$. \n",
    "Escriba un programa que utilice esta recursión para calcular $y_n$, aproximando $y_{n+k}$ por 0. Explique por qué este algoritmo es estable. \n",
    "Encuentre el valor de $k$, para que el programa calcule $y_{7}$ con un error absoluto menor a $10^{-6}$ (note que $y_7 \\approx 0.0114806$). \n",
    "\n",
    "3. Modifique el programa para que tome como entrada $n$, y el error absoluto deseado, $\\epsilon$, y luego estimando el error absoluto en el calculo de $y_n$ como $Err = |\\hat{y}_n(y_{n+k}=0) - \\hat{y}_n(y_{n+k-1}=0)|$, determine $y_n$ con un error absoluto (aproximado) menor que $\\epsilon$. \n",
    "Aquí, $\\hat{y}_n(y_{n+k}=0)$ es el valor de $y_n$ obtenido partiendo de $y_{n+k}=0$."
   ]
  }
 ],
 "metadata": {
  "@webio": {
   "lastCommId": null,
   "lastKernelId": null
  },
  "kernelspec": {
   "display_name": "Julia 1.5.3",
   "language": "julia",
   "name": "julia-1.5"
  },
  "language_info": {
   "file_extension": ".jl",
   "mimetype": "application/julia",
   "name": "julia",
   "version": "1.5.3"
  },
  "latex_envs": {
   "LaTeX_envs_menu_present": true,
   "autoclose": false,
   "autocomplete": true,
   "bibliofile": "biblio.bib",
   "cite_by": "apalike",
   "current_citInitial": 1,
   "eqLabelWithNumbers": true,
   "eqNumInitial": 1,
   "hotkeys": {
    "equation": "Ctrl-E",
    "itemize": "Ctrl-I"
   },
   "labels_anchors": false,
   "latex_user_defs": false,
   "report_style_numbering": false,
   "user_envs_cfg": false
  }
 },
 "nbformat": 4,
 "nbformat_minor": 4
}
