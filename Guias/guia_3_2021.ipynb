{
 "cells": [
  {
   "cell_type": "markdown",
   "metadata": {},
   "source": [
    "# Problema 1\n",
    "\n",
    "Desarrolle una función llamada `biseccion` para encontrar la raíz de otra función arbitraria $f:x\\in \\mathbb{R}\\to f(x)\\in \\mathbb{R}$ utilizando el método de la bisección. Dé como datos de entrada a `biseccion` la función $f$, el intervalo inicial $[a,b]$, la tolerancia $\\varepsilon_x$, la tolerancia $\\varepsilon_f$ y el número máximo de iteraciones permitidas `maxiter`. \n",
    "\n",
    "Considere las estimaciones del error absoluto $A_N=|b_N-a_N|/2$ y del error relativo $R_N=A_N/|x_N|=|b_N-a_N|/|b_N+a_N|$ obtenidos en la $N$-ésima iteración.\n",
    "\n",
    "La función `biseccion` debe finalizar cuando: i) $R_N<\\varepsilon_x$, ii) $|f(x_N)| < \\varepsilon_f$ o iii) $N \\geq$ `maxiter`.\n",
    "\n",
    "La función `biseccion` debe retornar la tupla $N$, $x_N$, $f(x_N)$, $A_N$, $R_N$ y $|f(x_N)|$.\n",
    "\n",
    "Utilice `println()` para mostrar la salida que la función `biseccion` retorna, con el fin de:\n",
    "\n",
    "1. Encontrar la menor solución positiva de la ecuación $2x = \\tan{(x)}$ con un error menor a $10^{-5}$. Cuántos pasos son necesarios si se comienza con el intervalo $[0.8,1.4]$?\n",
    "\n",
    "2. Encontrar una aproximación a $\\sqrt{3}$ con un error menor a $10^{-5}$. Note que $\\sqrt{3}$ es la raíz positiva de la ecuación $f(x)=x^2 -3$."
   ]
  },
  {
   "cell_type": "markdown",
   "metadata": {},
   "source": [
    "# Problema 2\n",
    "\n",
    "Desarrolle una función llamada `newton_raphson` para encontrar la raíz de una función arbitratia\n",
    "$f:x\\in \\mathbb{R}\\to f(x)\\in \\mathbb{R}$ utilizando el método de Newton--Raphson, dando como datos de entrada la función $f$, su derivada $f^{\\prime}$, una estimación inicial $x_0$, la tolerancia $\\varepsilon_x$, la tolerancia $\\varepsilon_f$ y un número máximo de iteraciones `maxiter`. Considere la estimación del error absoluto $A_N=|x_N-x_{N-1}|$ y del error relativo $R_N=|x_N - x_{N-1}|/|x_N|$.\n",
    "\n",
    "La función `newton_raphson` debe finalizar cuando: i) $R_N < \\varepsilon_x$, o ii) $|f(x_N)| < \\varepsilon_f$ o iii) $N \\geq$ `maxiter`.\n",
    "\n",
    "La función `newton_raphson` debe retornar la tupla $N$, $x_N$, $f(x_N)$, $A_N$, $R_N$ y $|f(x_N)|$.\n",
    "\n",
    "Utilice la función `newton_raphson` para resolver los incisos 1. y 2. del problema 1 conn $\\varepsilon_x=\\varepsilon_f=10^{-9}$. \n",
    "\n",
    "Compare la cantidad de evaluaciones de funciones que realizan por iteración estos métodos (el de la bisección y el de Newton-Raphson). Tenga en cuenta para ello que el de Newton-Raphsone evalúa (además de $f$) la función derivada $f^{\\prime}$. Compare luego el número total de evaluaciones de funciones realizado por estos métodos."
   ]
  },
  {
   "cell_type": "markdown",
   "metadata": {},
   "source": [
    "# Problema 3\n",
    "\n",
    "Modifique la función anterior para guardar en cada paso dos vectores, en uno el error relativo (usando como valor exacto `sqrt(BigFloat(3))`) y en otro el error relativo estimado ($|x_k - x_{k-1}|/|x_k|$) \n",
    "de la aproximación $k$-ésima de $\\sqrt{3}$  (pensada como raíz de la función $f(x) = x^2-3$) \n",
    "en función de $k$, empleando el método de bisección (use el intervalo inicial $[0.,2.5]$ y el \n",
    "de Newton-Raphson (use $x_0 = 2.5$). \n",
    "Escriba los programas en doble precisión, y fije una tolerancia de $10^{-10}$ como\n",
    "criterio de detención. Grafique los vectores y compare los resultados en un único gráfico en \n",
    "escala *log-log*. \n",
    "Recuerde de poner título, nombre a los ejes y leyendas para las distintas curvas. "
   ]
  },
  {
   "cell_type": "markdown",
   "metadata": {},
   "source": [
    "# Problema 4\n",
    "\n",
    "Un objeto en caída vertical en el aire está sujeto a la fuerza\n",
    "de gravedad y a la resistencia del aire. Si un objeto de masa $m$ es\n",
    "dejado caer desde una altura $h_0$, su altura luego de $t$ segundos está\n",
    "dada por:\n",
    "$$\n",
    "h(t) = h_0 - \\frac{mg}{k} t + \\frac{m^2 g}{k^2} \\left( 1 - e^{-kt/m}\\right)\n",
    "$$\n",
    "donde $g=9.8\\, m/s^2$ y $k$ representa el coeficiente de resistencia del aire\n",
    "en $kg / s$.\n",
    "Suponga que $h_0 = 10m$, $m=0.1\\, kg$, y $k = 0.149\\,  kg/s$.\n",
    "Grafique $h(t)$ y analice su comportamiento.\n",
    "Encuentre, con una precisión de $0.01\\,s$, el tiempo que le toma a este\n",
    "objeto llegar al suelo. Utilice el método de bisección y el de\n",
    "Newton--Raphson."
   ]
  },
  {
   "cell_type": "markdown",
   "metadata": {},
   "source": [
    "# Problema 5\n",
    "\n",
    "Escriba un programa para hallar ls solución a la ecuación \n",
    "\n",
    "$$x - \\cos x = 0$$\n",
    "\n",
    "en el intervalo $[0, \\pi/2]$:\n",
    "\n",
    "1. utilizando el método de la secante.\n",
    "\n",
    "2. utilizando el método de *Regula Falsi*."
   ]
  },
  {
   "cell_type": "markdown",
   "metadata": {},
   "source": [
    "# Problema 6\n",
    "\n",
    "Resuelva el problema 3 con el método de la secante con intervalo inicial $[0,2.5]$."
   ]
  },
  {
   "cell_type": "markdown",
   "metadata": {},
   "source": [
    "# Ejercicios Complementarios"
   ]
  },
  {
   "cell_type": "markdown",
   "metadata": {},
   "source": [
    "## Problema 7\n",
    "\n",
    "Dado el siguiente polinomio $p(x) = -10 + 5 x - 12 x^2  + 6 x^3  - 2 x^4  + x^5$, grafique el mismo y observe que posee una única raíz real positiva, encuentre la misma utilizando:\n",
    "\n",
    "1. El método de bisección. Elija los valores iniciales utilizando los teoremas que acotan la región del espacio complejo donde se encuentran las raíces.\n",
    "Evalúe el polinomio en una subrutina y utilice el algoritmo de Horner.\n",
    "\n",
    "2. El método de Newton-Raphson. Elija el valor inicial utilizando los teoremas que acotan la región del espacio complejo donde se encuentran las raíces. \n",
    "Evalúe el polinomio y su derivada en una subrutina utilizando el algoritmo de Horner."
   ]
  },
  {
   "cell_type": "markdown",
   "metadata": {},
   "source": [
    "## Problema 8\n",
    "\n",
    "Adapte el programa de Newton--Raphson para calcular una aproximación a la raíz cúbica de un número $R$ positivo. La entrada debe ser el número $R$, la aproximación inicial $x_0$ y el error máximo permitido $\\varepsilon$.\n",
    " "
   ]
  },
  {
   "cell_type": "markdown",
   "metadata": {},
   "source": [
    "## Problema 9\n",
    "\n",
    "Resuelva numéricamente, utilizando el método de Newton-Raphson, \n",
    "el problema de encontrar la raíz que satisfaga $x^3 - 2x - 5 = 0$.\n",
    "\n",
    "Utilizando calculadora y siete cifras decimales calcule los primeros elementos de la secuencia, comenzando con $x_0 = 2$. Pare cuando el error absoluto en el eje de las abcsisas, definido como $\\epsilon_x= |x_n - x_{n-1} |$ sea menor a $10^{-5}$.\n",
    "Escriba en un papel a mano una tabla que en cada fila tenga $n$, $x_n$, $f(x_n)$ y $\\epsilon_x$."
   ]
  }
 ],
 "metadata": {
  "@webio": {
   "lastCommId": null,
   "lastKernelId": null
  },
  "kernelspec": {
   "display_name": "Julia 1.5.3",
   "language": "julia",
   "name": "julia-1.5"
  },
  "language_info": {
   "file_extension": ".jl",
   "mimetype": "application/julia",
   "name": "julia",
   "version": "1.5.3"
  },
  "latex_envs": {
   "LaTeX_envs_menu_present": true,
   "autoclose": false,
   "autocomplete": true,
   "bibliofile": "biblio.bib",
   "cite_by": "apalike",
   "current_citInitial": 1,
   "eqLabelWithNumbers": true,
   "eqNumInitial": 1,
   "hotkeys": {
    "equation": "Ctrl-E",
    "itemize": "Ctrl-I"
   },
   "labels_anchors": false,
   "latex_user_defs": false,
   "report_style_numbering": false,
   "user_envs_cfg": false
  }
 },
 "nbformat": 4,
 "nbformat_minor": 4
}
