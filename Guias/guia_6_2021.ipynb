{
 "cells": [
  {
   "cell_type": "markdown",
   "metadata": {},
   "source": [
    "# Problema 1\n",
    "1. Haciendo los calculos a mano y trabajando con 7 cifras significativas, encuentre las aproximaciones a las integrales definidas:\n",
    "\n",
    "    a. $I_1 = \\int_0^1 x^4 dx$\n",
    "\n",
    "    b. $I_2 = \\int_0^{\\pi} \\sin{(x)} dx$\n",
    "\n",
    "utilizando las reglas simples de *i) punto medio*, *ii) trapecio* y *iii) Simpson*. \n",
    "\n",
    "2. Calcule el error absoluto y el error relativo en cada caso y para cada método."
   ]
  },
  {
   "cell_type": "code",
   "execution_count": null,
   "metadata": {},
   "outputs": [],
   "source": []
  },
  {
   "cell_type": "markdown",
   "metadata": {},
   "source": [
    "# Problema 2\n",
    "\n",
    "1. Repita el problema 1 dividiendo el intervalo de integración en dos subintervalos de igual tamaño. Es decir:\n",
    "\n",
    "    a. $I_1=\\int_0^{1/2} x^4 dx+ \\int_{1/2}^1 x^4 dx$\n",
    "\n",
    "    b. $I_2=\\int_0^{\\pi/2}\\sin{(x)}dx+\\int_{\\pi/2}^{\\pi}\\sin{(x)} dx$\n",
    "\n",
    "2. Compare resultados con lo obtenido en el problema 1."
   ]
  },
  {
   "cell_type": "code",
   "execution_count": null,
   "metadata": {},
   "outputs": [],
   "source": []
  },
  {
   "cell_type": "markdown",
   "metadata": {},
   "source": [
    "# Problema 3\n",
    "1. Construya funciones que dada una función arbitraria, retornen  las aproximaciones numéricas $S_M$, $S_T$ y $S_S$ a una integral de la forma\n",
    "$$\n",
    "I = \\int_a ^b f(x) dx\n",
    "$$\n",
    "utilizando las reglas compuestas del *punto medio*, del *trapecio* y de *Simpson*, respectivamente.\n",
    "Las funciones deben evaluar el integrando $f(x)$ en $n+1$ puntos equiespaciados $x_i$ para $i=0,1,2,...,n$ y con espaciamiento $h=(b-a)/n$.\n",
    "En el caso del punto medio, se evalúa en los $x_i+h/2$ para $i=0,1,...,n-1$.\n",
    "\n",
    "2. Calcule $S_M$, $S_T$ y $S_S$ para la integral:\n",
    "$$\n",
    "I = \\int _0 ^1 e^{-x} dx\n",
    "$$\n",
    "Utilice un espaciamiento $h_1=0.05$ em ambos casos. Luego repita el procedimiento disminuyendo su \n",
    "espaciamiento a la mitad, $h_2=h_1/2=0.025$.\n",
    "\n",
    "3. Teniendo en cuenta que es posible conocer el resultado exacto de la integral en cuestión, evalúe el error\n",
    "$\\varepsilon(h)=|S-I|$, para $h=0.05$ y $h=0.025$ para los tres métodos de aproximación.\n",
    "Verifique que el cociente de precisión, definido como \n",
    "$$\n",
    "Q = \\frac{\\varepsilon(h)}{\\varepsilon(h/2)}\n",
    "$$\n",
    "toma un valor aproximado a $4$ cuando se usa la regla del *punto medio* y del *trapecio*, y un valor aproximado a $16$ cuando se usa la regla de *Simpson*. \n",
    "Teniendo en cuenta la expresión del error de truncamiento en cada caso, justifique este resultado.\n",
    "\n",
    "**Consejo:** tener cuidado con *Simpson* en elegir siempre un número par de intervalos, i.e, un número impar de puntos. Pruebe con una integral conocida, qué resultados da cuando usa un número impar de intervalos. Incluya en la función para dicho método un chequeo de que el número de puntos sea par."
   ]
  },
  {
   "cell_type": "code",
   "execution_count": null,
   "metadata": {},
   "outputs": [],
   "source": []
  },
  {
   "cell_type": "markdown",
   "metadata": {},
   "source": [
    "# Problema 4\n",
    "1. Para los métodos de integración numérica del problema 3, implemente fórmulas de estimación del error en función de el número de puntos $n$, una cota máxima $M$ asociada a $f(x)$ o alguna de sus derivadas, y los extremos $a$ y $b$ del intérvalo de integración.\n",
    "\n",
    "2. Indique, para cada método, el mínimo $n$ necesario para alcanzar un error relativo menor a $10^{-7}$ de las siguientes integrales\n",
    "\n",
    "    a. $\\int_0^{1/2} \\frac{2}{x-4} \\; dx$\n",
    "\n",
    "    b. $\\int_1^{3/2} x^2 \\log x \\; dx$\n",
    "\n",
    "3. Compruebe usando los métodos del problema 3 si las estimaciones de $n$ son adecuadas."
   ]
  },
  {
   "cell_type": "code",
   "execution_count": null,
   "metadata": {},
   "outputs": [],
   "source": []
  },
  {
   "cell_type": "markdown",
   "metadata": {},
   "source": [
    "# Problema 5\n",
    "**Comparación de métodos.**\n",
    "\n",
    "1. Empleando los algoritmos del problema 3, aproxime la integral\n",
    "\\begin{equation*}\n",
    "I = \\int_0^1 e^{-t} dt = 1 - e^{-1}  \\nonumber              \n",
    "\\end{equation*}\n",
    "\n",
    "2. Calcule el error relativo $E$ para distintos valores del número de puntos de integración, $n$. Considere valores de $n$ consecutivos hasta 100, y luego de 100 en 100 hasta $n=3000$. Grafique $E$ vs $n$ en *log-log* para verificar que\n",
    "$$\n",
    "E \\propto n^\\alpha\n",
    "$$\n",
    "\n",
    "3. Estime los exponentes $\\alpha$ de las leyes de potencia observadas.\n",
    "\n",
    "4. Use el gráfico para estimar las leyes de potencia de la dependencia del error  con el número de puntos $n$ y para determinar el número cifras decimales de precisión en cada método. Haga esto tanto para el error del algoritmo como para el de redondeo.\n",
    "\n",
    "5. Repita los incisos anteriores en `Float32`."
   ]
  },
  {
   "cell_type": "code",
   "execution_count": null,
   "metadata": {},
   "outputs": [],
   "source": []
  },
  {
   "cell_type": "markdown",
   "metadata": {},
   "source": [
    "# Problema 6\n",
    "En el repositorio \n",
    "\n",
    "    https://github.com/reula/MetodosNumericos2021/tree/main/Guias\n",
    "    \n",
    "se encuentran dos archivos de datos, \n",
    "\n",
    "    mediciones1-c1-g6.dat \n",
    "    mediciones2-c1-g6.dat\n",
    "\n",
    "Los mismos almacenan mediciones de una función $f(t)$ sobre un mismo rango de $t$. El primero muestrea $n=629$ puntos y el segundo $n=10001$.\n",
    "\n",
    "1. Baje y grafique los datos.\n",
    "\n",
    "2. Copie y modifique los algoritmos del problema 3 para integrar muestreos de funciones.\n",
    "\n",
    "3. Integre los muestreos y compare."
   ]
  },
  {
   "cell_type": "code",
   "execution_count": null,
   "metadata": {},
   "outputs": [],
   "source": []
  },
  {
   "cell_type": "markdown",
   "metadata": {},
   "source": [
    "## Tutorial: bajando archivos desde una notebook de Julia"
   ]
  },
  {
   "cell_type": "code",
   "execution_count": null,
   "metadata": {},
   "outputs": [],
   "source": [
    "# Ejemplo de como bajar un archivo.\n",
    "download(\n",
    "    \"https://raw.githubusercontent.com/reula/MetodosNumericos2021/main/Guias/mediciones1-c1-g6.dat\", # Bajamos el archivo pos.dat del repositorio en el que están las guías.\n",
    "    pwd() * \"/\" * \"mediciones1-c1-g6.dat\" # Guardamos pos.dat en un archivo llamado mediciones1-c1-g6.dat en el directorio local.\n",
    ")"
   ]
  },
  {
   "cell_type": "markdown",
   "metadata": {},
   "source": [
    "1. **Tenga en cuenta que en Windows debe cambiar `\"/\"` por `\"\\\"`!**\n",
    "\n",
    "2. Cuando entre a github a ver los links a los archivos, seleccione primero el archivo, cuando se visualice selecione el botón **RAW**. Fíjese que el link debe comenzar con https://raw.githubusercontent.com"
   ]
  },
  {
   "cell_type": "code",
   "execution_count": null,
   "metadata": {},
   "outputs": [],
   "source": []
  },
  {
   "cell_type": "markdown",
   "metadata": {},
   "source": [
    "# Ejercicios Complementarios"
   ]
  },
  {
   "cell_type": "markdown",
   "metadata": {},
   "source": [
    "## Problema C.1\n",
    "Idem problema 4, para las siguientes integrales: \n",
    "1. $\\int_{1/2}^1 x^4 dx$\n",
    "2. $\\int_0^{\\pi/4} x \\sin x dx$"
   ]
  },
  {
   "cell_type": "code",
   "execution_count": null,
   "metadata": {},
   "outputs": [],
   "source": []
  },
  {
   "cell_type": "markdown",
   "metadata": {},
   "source": [
    "## Problema C.2\n",
    "**Integración numérica en dos dimensiones**\n",
    "1. Haga un programa que integre funciones en la region $a\\le x \\le b\\,;\\;c \\le y \\le d$ siguiendo el código delineado en la clase teórica, usando el método de cuadratura de Simpson en cada coordenada.\n",
    "2. Evalue numericamente con no menos de 8 cifras significativas las integrales\n",
    "$$\n",
    "\\int_0^2\\,dx\\, \\int_0^1\\,dy\\, e^{-x\\,y} \\;\\;\\;\\;\\;\\;\\;\\;\\;\\;\\;\\;\\;\\;\n",
    "\\int_{7/5}^2\\,dx\\, \\int_1^{3/2}\\,dy\\, \\ln{(x+2 y)}\n",
    "$$\n",
    "3. Modifique el programa para permitir que los límites de integración en $y$ sean función de $x$ y evalue la integral\n",
    "$$\n",
    "\\int_0^1\\,dx\\, \\int_0^{\\sqrt{1-x^2}}\\,dy\\, e^{-x\\,y} \n",
    "$$"
   ]
  },
  {
   "cell_type": "code",
   "execution_count": null,
   "metadata": {},
   "outputs": [],
   "source": []
  }
 ],
 "metadata": {
  "@webio": {
   "lastCommId": null,
   "lastKernelId": null
  },
  "kernelspec": {
   "display_name": "Julia 1.6.1",
   "language": "julia",
   "name": "julia-1.6"
  },
  "language_info": {
   "file_extension": ".jl",
   "mimetype": "application/julia",
   "name": "julia",
   "version": "1.6.1"
  }
 },
 "nbformat": 4,
 "nbformat_minor": 4
}
