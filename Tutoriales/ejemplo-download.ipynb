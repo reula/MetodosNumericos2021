{
 "cells": [
  {
   "cell_type": "code",
   "execution_count": 1,
   "metadata": {},
   "outputs": [
    {
     "data": {
      "text/plain": [
       "\"/home/juan/Workbench/docencia/2021/metodos-numericos/MetodosNumericos2021_pri/tutoriales/pos.dat\""
      ]
     },
     "execution_count": 1,
     "metadata": {},
     "output_type": "execute_result"
    }
   ],
   "source": [
    "# Para bajar un archivo de un repositorio abierto en github.\n",
    "# IMPORTANTE: es necesario el link \"raw\" al archivo.\n",
    "\n",
    "github_raw_url=\"https://raw.githubusercontent.com/reula/MetodosNumericos2021/main/Guias/pos.dat\"\n",
    "fileout = pwd() * \"/\" * \"pos.dat\"\n",
    "download(github_raw_url,fileout)"
   ]
  },
  {
   "cell_type": "code",
   "execution_count": null,
   "metadata": {},
   "outputs": [],
   "source": []
  }
 ],
 "metadata": {
  "@webio": {
   "lastCommId": null,
   "lastKernelId": null
  },
  "kernelspec": {
   "display_name": "Julia 1.6.1",
   "language": "julia",
   "name": "julia-1.6"
  },
  "language_info": {
   "file_extension": ".jl",
   "mimetype": "application/julia",
   "name": "julia",
   "version": "1.6.1"
  }
 },
 "nbformat": 4,
 "nbformat_minor": 5
}
