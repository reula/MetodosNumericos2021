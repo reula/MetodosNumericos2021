{
 "cells": [
  {
   "cell_type": "markdown",
   "metadata": {},
   "source": [
    "## Vectores en Julia I\n",
    "\n",
    "Tutorial en el uso de vectores en Julia"
   ]
  },
  {
   "cell_type": "code",
   "execution_count": 1,
   "metadata": {},
   "outputs": [],
   "source": [
    "using Plots"
   ]
  },
  {
   "cell_type": "code",
   "execution_count": 2,
   "metadata": {},
   "outputs": [
    {
     "data": {
      "text/plain": [
       "6-element Array{Float64,1}:\n",
       " 1.0\n",
       " 1.0\n",
       " 1.0\n",
       " 1.0\n",
       " 1.0\n",
       " 1.0"
      ]
     },
     "execution_count": 2,
     "metadata": {},
     "output_type": "execute_result"
    }
   ],
   "source": [
    "V = fill(1., 6)"
   ]
  },
  {
   "cell_type": "code",
   "execution_count": 3,
   "metadata": {},
   "outputs": [
    {
     "data": {
      "text/plain": [
       "6-element Array{Int64,1}:\n",
       " 1\n",
       " 2\n",
       " 3\n",
       " 4\n",
       " 5\n",
       " 6"
      ]
     },
     "execution_count": 3,
     "metadata": {},
     "output_type": "execute_result"
    }
   ],
   "source": [
    "U = [1; 2; 3; 4; 5; 6]"
   ]
  },
  {
   "cell_type": "code",
   "execution_count": 4,
   "metadata": {},
   "outputs": [
    {
     "data": {
      "text/plain": [
       "6-element Array{Float64,1}:\n",
       "  3.0\n",
       "  5.0\n",
       "  7.0\n",
       "  9.0\n",
       " 11.0\n",
       " 13.0"
      ]
     },
     "execution_count": 4,
     "metadata": {},
     "output_type": "execute_result"
    }
   ],
   "source": [
    "Z = V + 2*U"
   ]
  },
  {
   "cell_type": "code",
   "execution_count": 5,
   "metadata": {},
   "outputs": [
    {
     "data": {
      "text/plain": [
       "6-element Array{Float64,1}:\n",
       " 0.0\n",
       " 0.0\n",
       " 0.0\n",
       " 0.0\n",
       " 0.0\n",
       " 0.0"
      ]
     },
     "execution_count": 5,
     "metadata": {},
     "output_type": "execute_result"
    }
   ],
   "source": [
    "Z0 = zeros(6)"
   ]
  },
  {
   "cell_type": "code",
   "execution_count": 6,
   "metadata": {},
   "outputs": [
    {
     "data": {
      "text/plain": [
       "6-element Array{Float64,1}:\n",
       " 1.0\n",
       " 1.0\n",
       " 1.0\n",
       " 1.0\n",
       " 1.0\n",
       " 1.0"
      ]
     },
     "execution_count": 6,
     "metadata": {},
     "output_type": "execute_result"
    }
   ],
   "source": [
    "Z1 = ones(6)"
   ]
  },
  {
   "cell_type": "code",
   "execution_count": 7,
   "metadata": {},
   "outputs": [
    {
     "data": {
      "text/plain": [
       "6-element Array{Float64,1}:\n",
       " 0.20734101981691366\n",
       " 0.06587435383018758\n",
       " 0.07624940739090569\n",
       " 0.7818271116818125\n",
       " 0.904426339346694\n",
       " 0.9765743556494164"
      ]
     },
     "execution_count": 7,
     "metadata": {},
     "output_type": "execute_result"
    }
   ],
   "source": [
    "Zr = rand(6)"
   ]
  },
  {
   "cell_type": "code",
   "execution_count": 8,
   "metadata": {},
   "outputs": [
    {
     "data": {
      "text/plain": [
       "1×6 Array{Int64,2}:\n",
       " 1  2  3  4  5  6"
      ]
     },
     "execution_count": 8,
     "metadata": {},
     "output_type": "execute_result"
    }
   ],
   "source": [
    "Σ = [1 2 3 4 5 6]"
   ]
  },
  {
   "cell_type": "code",
   "execution_count": 10,
   "metadata": {},
   "outputs": [
    {
     "data": {
      "text/plain": [
       "1-element Array{Int64,1}:\n",
       " 91"
      ]
     },
     "execution_count": 10,
     "metadata": {},
     "output_type": "execute_result"
    }
   ],
   "source": [
    "Σ * U"
   ]
  },
  {
   "cell_type": "code",
   "execution_count": 12,
   "metadata": {},
   "outputs": [],
   "source": [
    "N = 20\n",
    "S = [sin(i/10) for i ∈ 1:N];"
   ]
  },
  {
   "cell_type": "code",
   "execution_count": 14,
   "metadata": {},
   "outputs": [],
   "source": [
    "C = zeros(N)\n",
    "for i ∈ 1:N\n",
    "    C[i] = cos(i/10)\n",
    "end"
   ]
  },
  {
   "cell_type": "code",
   "execution_count": 17,
   "metadata": {},
   "outputs": [
    {
     "data": {
      "image/svg+xml": [
       "<?xml version=\"1.0\" encoding=\"utf-8\"?>\n",
       "<svg xmlns=\"http://www.w3.org/2000/svg\" xmlns:xlink=\"http://www.w3.org/1999/xlink\" width=\"600\" height=\"400\" viewBox=\"0 0 2400 1600\">\n",
       "<defs>\n",
       "  <clipPath id=\"clip290\">\n",
       "    <rect x=\"0\" y=\"0\" width=\"2400\" height=\"1600\"/>\n",
       "  </clipPath>\n",
       "</defs>\n",
       "<path clip-path=\"url(#clip290)\" d=\"\n",
       "M0 1600 L2400 1600 L2400 0 L0 0  Z\n",
       "  \" fill=\"#ffffff\" fill-rule=\"evenodd\" fill-opacity=\"1\"/>\n",
       "<defs>\n",
       "  <clipPath id=\"clip291\">\n",
       "    <rect x=\"480\" y=\"0\" width=\"1681\" height=\"1600\"/>\n",
       "  </clipPath>\n",
       "</defs>\n",
       "<path clip-path=\"url(#clip290)\" d=\"\n",
       "M146.853 1486.45 L2352.76 1486.45 L2352.76 47.2441 L146.853 47.2441  Z\n",
       "  \" fill=\"#ffffff\" fill-rule=\"evenodd\" fill-opacity=\"1\"/>\n",
       "<defs>\n",
       "  <clipPath id=\"clip292\">\n",
       "    <rect x=\"146\" y=\"47\" width=\"2207\" height=\"1440\"/>\n",
       "  </clipPath>\n",
       "</defs>\n",
       "<polyline clip-path=\"url(#clip292)\" style=\"stroke:#000000; stroke-width:2; stroke-opacity:0.1; fill:none\" points=\"\n",
       "  647.398,1486.45 647.398,47.2441 \n",
       "  \"/>\n",
       "<polyline clip-path=\"url(#clip292)\" style=\"stroke:#000000; stroke-width:2; stroke-opacity:0.1; fill:none\" points=\"\n",
       "  1195.04,1486.45 1195.04,47.2441 \n",
       "  \"/>\n",
       "<polyline clip-path=\"url(#clip292)\" style=\"stroke:#000000; stroke-width:2; stroke-opacity:0.1; fill:none\" points=\"\n",
       "  1742.68,1486.45 1742.68,47.2441 \n",
       "  \"/>\n",
       "<polyline clip-path=\"url(#clip292)\" style=\"stroke:#000000; stroke-width:2; stroke-opacity:0.1; fill:none\" points=\"\n",
       "  2290.32,1486.45 2290.32,47.2441 \n",
       "  \"/>\n",
       "<polyline clip-path=\"url(#clip290)\" style=\"stroke:#000000; stroke-width:4; stroke-opacity:1; fill:none\" points=\"\n",
       "  146.853,1486.45 2352.76,1486.45 \n",
       "  \"/>\n",
       "<polyline clip-path=\"url(#clip290)\" style=\"stroke:#000000; stroke-width:4; stroke-opacity:1; fill:none\" points=\"\n",
       "  647.398,1486.45 647.398,1469.18 \n",
       "  \"/>\n",
       "<polyline clip-path=\"url(#clip290)\" style=\"stroke:#000000; stroke-width:4; stroke-opacity:1; fill:none\" points=\"\n",
       "  1195.04,1486.45 1195.04,1469.18 \n",
       "  \"/>\n",
       "<polyline clip-path=\"url(#clip290)\" style=\"stroke:#000000; stroke-width:4; stroke-opacity:1; fill:none\" points=\"\n",
       "  1742.68,1486.45 1742.68,1469.18 \n",
       "  \"/>\n",
       "<polyline clip-path=\"url(#clip290)\" style=\"stroke:#000000; stroke-width:4; stroke-opacity:1; fill:none\" points=\"\n",
       "  2290.32,1486.45 2290.32,1469.18 \n",
       "  \"/>\n",
       "<path clip-path=\"url(#clip290)\" d=\"M 0 0 M637.676 1512.56 L656.032 1512.56 L656.032 1516.5 L641.958 1516.5 L641.958 1524.97 Q642.977 1524.62 643.995 1524.46 Q645.014 1524.27 646.032 1524.27 Q651.819 1524.27 655.199 1527.44 Q658.578 1530.62 658.578 1536.03 Q658.578 1541.61 655.106 1544.71 Q651.634 1547.79 645.315 1547.79 Q643.139 1547.79 640.87 1547.42 Q638.625 1547.05 636.217 1546.31 L636.217 1541.61 Q638.301 1542.74 640.523 1543.3 Q642.745 1543.86 645.222 1543.86 Q649.227 1543.86 651.565 1541.75 Q653.903 1539.64 653.903 1536.03 Q653.903 1532.42 651.565 1530.31 Q649.227 1528.21 645.222 1528.21 Q643.347 1528.21 641.472 1528.62 Q639.62 1529.04 637.676 1529.92 L637.676 1512.56 Z\" fill=\"#000000\" fill-rule=\"evenodd\" fill-opacity=\"1\" /><path clip-path=\"url(#clip290)\" d=\"M 0 0 M1171.92 1543.18 L1179.55 1543.18 L1179.55 1516.82 L1171.24 1518.49 L1171.24 1514.23 L1179.51 1512.56 L1184.18 1512.56 L1184.18 1543.18 L1191.82 1543.18 L1191.82 1547.12 L1171.92 1547.12 L1171.92 1543.18 Z\" fill=\"#000000\" fill-rule=\"evenodd\" fill-opacity=\"1\" /><path clip-path=\"url(#clip290)\" d=\"M 0 0 M1206.89 1515.64 Q1203.28 1515.64 1201.45 1519.2 Q1199.65 1522.75 1199.65 1529.87 Q1199.65 1536.98 1201.45 1540.55 Q1203.28 1544.09 1206.89 1544.09 Q1210.53 1544.09 1212.33 1540.55 Q1214.16 1536.98 1214.16 1529.87 Q1214.16 1522.75 1212.33 1519.2 Q1210.53 1515.64 1206.89 1515.64 M1206.89 1511.93 Q1212.7 1511.93 1215.76 1516.54 Q1218.84 1521.12 1218.84 1529.87 Q1218.84 1538.6 1215.76 1543.21 Q1212.7 1547.79 1206.89 1547.79 Q1201.08 1547.79 1198 1543.21 Q1194.95 1538.6 1194.95 1529.87 Q1194.95 1521.12 1198 1516.54 Q1201.08 1511.93 1206.89 1511.93 Z\" fill=\"#000000\" fill-rule=\"evenodd\" fill-opacity=\"1\" /><path clip-path=\"url(#clip290)\" d=\"M 0 0 M1720.06 1543.18 L1727.69 1543.18 L1727.69 1516.82 L1719.38 1518.49 L1719.38 1514.23 L1727.65 1512.56 L1732.32 1512.56 L1732.32 1543.18 L1739.96 1543.18 L1739.96 1547.12 L1720.06 1547.12 L1720.06 1543.18 Z\" fill=\"#000000\" fill-rule=\"evenodd\" fill-opacity=\"1\" /><path clip-path=\"url(#clip290)\" d=\"M 0 0 M1745.08 1512.56 L1763.43 1512.56 L1763.43 1516.5 L1749.36 1516.5 L1749.36 1524.97 Q1750.38 1524.62 1751.4 1524.46 Q1752.42 1524.27 1753.43 1524.27 Q1759.22 1524.27 1762.6 1527.44 Q1765.98 1530.62 1765.98 1536.03 Q1765.98 1541.61 1762.51 1544.71 Q1759.04 1547.79 1752.72 1547.79 Q1750.54 1547.79 1748.27 1547.42 Q1746.03 1547.05 1743.62 1546.31 L1743.62 1541.61 Q1745.7 1542.74 1747.93 1543.3 Q1750.15 1543.86 1752.62 1543.86 Q1756.63 1543.86 1758.97 1541.75 Q1761.31 1539.64 1761.31 1536.03 Q1761.31 1532.42 1758.97 1530.31 Q1756.63 1528.21 1752.62 1528.21 Q1750.75 1528.21 1748.87 1528.62 Q1747.02 1529.04 1745.08 1529.92 L1745.08 1512.56 Z\" fill=\"#000000\" fill-rule=\"evenodd\" fill-opacity=\"1\" /><path clip-path=\"url(#clip290)\" d=\"M 0 0 M2271.47 1543.18 L2287.79 1543.18 L2287.79 1547.12 L2265.85 1547.12 L2265.85 1543.18 Q2268.51 1540.43 2273.09 1535.8 Q2277.7 1531.15 2278.88 1529.81 Q2281.12 1527.28 2282 1525.55 Q2282.91 1523.79 2282.91 1522.1 Q2282.91 1519.34 2280.96 1517.61 Q2279.04 1515.87 2275.94 1515.87 Q2273.74 1515.87 2271.29 1516.63 Q2268.85 1517.4 2266.08 1518.95 L2266.08 1514.23 Q2268.9 1513.09 2271.35 1512.51 Q2273.81 1511.93 2275.85 1511.93 Q2281.22 1511.93 2284.41 1514.62 Q2287.6 1517.31 2287.6 1521.8 Q2287.6 1523.93 2286.79 1525.85 Q2286.01 1527.74 2283.9 1530.34 Q2283.32 1531.01 2280.22 1534.23 Q2277.12 1537.42 2271.47 1543.18 Z\" fill=\"#000000\" fill-rule=\"evenodd\" fill-opacity=\"1\" /><path clip-path=\"url(#clip290)\" d=\"M 0 0 M2302.86 1515.64 Q2299.25 1515.64 2297.42 1519.2 Q2295.61 1522.75 2295.61 1529.87 Q2295.61 1536.98 2297.42 1540.55 Q2299.25 1544.09 2302.86 1544.09 Q2306.49 1544.09 2308.3 1540.55 Q2310.13 1536.98 2310.13 1529.87 Q2310.13 1522.75 2308.3 1519.2 Q2306.49 1515.64 2302.86 1515.64 M2302.86 1511.93 Q2308.67 1511.93 2311.73 1516.54 Q2314.8 1521.12 2314.8 1529.87 Q2314.8 1538.6 2311.73 1543.21 Q2308.67 1547.79 2302.86 1547.79 Q2297.05 1547.79 2293.97 1543.21 Q2290.91 1538.6 2290.91 1529.87 Q2290.91 1521.12 2293.97 1516.54 Q2297.05 1511.93 2302.86 1511.93 Z\" fill=\"#000000\" fill-rule=\"evenodd\" fill-opacity=\"1\" /><polyline clip-path=\"url(#clip292)\" style=\"stroke:#000000; stroke-width:2; stroke-opacity:0.1; fill:none\" points=\"\n",
       "  146.853,1179.53 2352.76,1179.53 \n",
       "  \"/>\n",
       "<polyline clip-path=\"url(#clip292)\" style=\"stroke:#000000; stroke-width:2; stroke-opacity:0.1; fill:none\" points=\"\n",
       "  146.853,864.887 2352.76,864.887 \n",
       "  \"/>\n",
       "<polyline clip-path=\"url(#clip292)\" style=\"stroke:#000000; stroke-width:2; stroke-opacity:0.1; fill:none\" points=\"\n",
       "  146.853,550.244 2352.76,550.244 \n",
       "  \"/>\n",
       "<polyline clip-path=\"url(#clip292)\" style=\"stroke:#000000; stroke-width:2; stroke-opacity:0.1; fill:none\" points=\"\n",
       "  146.853,235.601 2352.76,235.601 \n",
       "  \"/>\n",
       "<polyline clip-path=\"url(#clip290)\" style=\"stroke:#000000; stroke-width:4; stroke-opacity:1; fill:none\" points=\"\n",
       "  146.853,1486.45 146.853,47.2441 \n",
       "  \"/>\n",
       "<polyline clip-path=\"url(#clip290)\" style=\"stroke:#000000; stroke-width:4; stroke-opacity:1; fill:none\" points=\"\n",
       "  146.853,1179.53 173.324,1179.53 \n",
       "  \"/>\n",
       "<polyline clip-path=\"url(#clip290)\" style=\"stroke:#000000; stroke-width:4; stroke-opacity:1; fill:none\" points=\"\n",
       "  146.853,864.887 173.324,864.887 \n",
       "  \"/>\n",
       "<polyline clip-path=\"url(#clip290)\" style=\"stroke:#000000; stroke-width:4; stroke-opacity:1; fill:none\" points=\"\n",
       "  146.853,550.244 173.324,550.244 \n",
       "  \"/>\n",
       "<polyline clip-path=\"url(#clip290)\" style=\"stroke:#000000; stroke-width:4; stroke-opacity:1; fill:none\" points=\"\n",
       "  146.853,235.601 173.324,235.601 \n",
       "  \"/>\n",
       "<path clip-path=\"url(#clip290)\" d=\"M 0 0 M62.9365 1165.33 Q59.3254 1165.33 57.4967 1168.89 Q55.6912 1172.44 55.6912 1179.56 Q55.6912 1186.67 57.4967 1190.24 Q59.3254 1193.78 62.9365 1193.78 Q66.5707 1193.78 68.3763 1190.24 Q70.205 1186.67 70.205 1179.56 Q70.205 1172.44 68.3763 1168.89 Q66.5707 1165.33 62.9365 1165.33 M62.9365 1161.63 Q68.7467 1161.63 71.8022 1166.23 Q74.8809 1170.81 74.8809 1179.56 Q74.8809 1188.29 71.8022 1192.9 Q68.7467 1197.48 62.9365 1197.48 Q57.1264 1197.48 54.0477 1192.9 Q50.9921 1188.29 50.9921 1179.56 Q50.9921 1170.81 54.0477 1166.23 Q57.1264 1161.63 62.9365 1161.63 Z\" fill=\"#000000\" fill-rule=\"evenodd\" fill-opacity=\"1\" /><path clip-path=\"url(#clip290)\" d=\"M 0 0 M79.9503 1190.93 L84.8345 1190.93 L84.8345 1196.81 L79.9503 1196.81 L79.9503 1190.93 Z\" fill=\"#000000\" fill-rule=\"evenodd\" fill-opacity=\"1\" /><path clip-path=\"url(#clip290)\" d=\"M 0 0 M89.9503 1162.25 L108.307 1162.25 L108.307 1166.19 L94.2326 1166.19 L94.2326 1174.66 Q95.2511 1174.31 96.2697 1174.15 Q97.2882 1173.96 98.3067 1173.96 Q104.094 1173.96 107.473 1177.13 Q110.853 1180.31 110.853 1185.72 Q110.853 1191.3 107.381 1194.4 Q103.909 1197.48 97.5891 1197.48 Q95.4132 1197.48 93.1447 1197.11 Q90.8993 1196.74 88.4919 1196 L88.4919 1191.3 Q90.5752 1192.44 92.7975 1192.99 Q95.0197 1193.55 97.4965 1193.55 Q101.501 1193.55 103.839 1191.44 Q106.177 1189.33 106.177 1185.72 Q106.177 1182.11 103.839 1180 Q101.501 1177.9 97.4965 1177.9 Q95.6215 1177.9 93.7465 1178.31 Q91.8947 1178.73 89.9503 1179.61 L89.9503 1162.25 Z\" fill=\"#000000\" fill-rule=\"evenodd\" fill-opacity=\"1\" /><path clip-path=\"url(#clip290)\" d=\"M 0 0 M53.9782 878.232 L61.6171 878.232 L61.6171 851.866 L53.3069 853.533 L53.3069 849.274 L61.5708 847.607 L66.2467 847.607 L66.2467 878.232 L73.8855 878.232 L73.8855 882.167 L53.9782 882.167 L53.9782 878.232 Z\" fill=\"#000000\" fill-rule=\"evenodd\" fill-opacity=\"1\" /><path clip-path=\"url(#clip290)\" d=\"M 0 0 M78.9549 876.287 L83.8392 876.287 L83.8392 882.167 L78.9549 882.167 L78.9549 876.287 Z\" fill=\"#000000\" fill-rule=\"evenodd\" fill-opacity=\"1\" /><path clip-path=\"url(#clip290)\" d=\"M 0 0 M98.9085 850.686 Q95.2974 850.686 93.4688 854.25 Q91.6632 857.792 91.6632 864.922 Q91.6632 872.028 93.4688 875.593 Q95.2974 879.135 98.9085 879.135 Q102.543 879.135 104.348 875.593 Q106.177 872.028 106.177 864.922 Q106.177 857.792 104.348 854.25 Q102.543 850.686 98.9085 850.686 M98.9085 846.982 Q104.719 846.982 107.774 851.588 Q110.853 856.172 110.853 864.922 Q110.853 873.649 107.774 878.255 Q104.719 882.838 98.9085 882.838 Q93.0984 882.838 90.0197 878.255 Q86.9642 873.649 86.9642 864.922 Q86.9642 856.172 90.0197 851.588 Q93.0984 846.982 98.9085 846.982 Z\" fill=\"#000000\" fill-rule=\"evenodd\" fill-opacity=\"1\" /><path clip-path=\"url(#clip290)\" d=\"M 0 0 M54.9736 563.589 L62.6124 563.589 L62.6124 537.223 L54.3023 538.89 L54.3023 534.631 L62.5661 532.964 L67.242 532.964 L67.242 563.589 L74.8809 563.589 L74.8809 567.524 L54.9736 567.524 L54.9736 563.589 Z\" fill=\"#000000\" fill-rule=\"evenodd\" fill-opacity=\"1\" /><path clip-path=\"url(#clip290)\" d=\"M 0 0 M79.9503 561.644 L84.8345 561.644 L84.8345 567.524 L79.9503 567.524 L79.9503 561.644 Z\" fill=\"#000000\" fill-rule=\"evenodd\" fill-opacity=\"1\" /><path clip-path=\"url(#clip290)\" d=\"M 0 0 M89.9503 532.964 L108.307 532.964 L108.307 536.899 L94.2326 536.899 L94.2326 545.371 Q95.2511 545.024 96.2697 544.862 Q97.2882 544.677 98.3067 544.677 Q104.094 544.677 107.473 547.848 Q110.853 551.019 110.853 556.436 Q110.853 562.015 107.381 565.117 Q103.909 568.195 97.5891 568.195 Q95.4132 568.195 93.1447 567.825 Q90.8993 567.455 88.4919 566.714 L88.4919 562.015 Q90.5752 563.149 92.7975 563.705 Q95.0197 564.26 97.4965 564.26 Q101.501 564.26 103.839 562.154 Q106.177 560.047 106.177 556.436 Q106.177 552.825 103.839 550.718 Q101.501 548.612 97.4965 548.612 Q95.6215 548.612 93.7465 549.029 Q91.8947 549.445 89.9503 550.325 L89.9503 532.964 Z\" fill=\"#000000\" fill-rule=\"evenodd\" fill-opacity=\"1\" /><path clip-path=\"url(#clip290)\" d=\"M 0 0 M57.5662 248.946 L73.8855 248.946 L73.8855 252.881 L51.9412 252.881 L51.9412 248.946 Q54.6032 246.191 59.1865 241.562 Q63.793 236.909 64.9735 235.566 Q67.2189 233.043 68.0985 231.307 Q69.0013 229.548 69.0013 227.858 Q69.0013 225.103 67.0569 223.367 Q65.1356 221.631 62.0337 221.631 Q59.8347 221.631 57.381 222.395 Q54.9504 223.159 52.1727 224.71 L52.1727 219.988 Q54.9967 218.853 57.4504 218.275 Q59.9041 217.696 61.9411 217.696 Q67.3115 217.696 70.5059 220.381 Q73.7003 223.066 73.7003 227.557 Q73.7003 229.687 72.8902 231.608 Q72.1031 233.506 69.9967 236.099 Q69.418 236.77 66.3161 239.987 Q63.2143 243.182 57.5662 248.946 Z\" fill=\"#000000\" fill-rule=\"evenodd\" fill-opacity=\"1\" /><path clip-path=\"url(#clip290)\" d=\"M 0 0 M78.9549 247.001 L83.8392 247.001 L83.8392 252.881 L78.9549 252.881 L78.9549 247.001 Z\" fill=\"#000000\" fill-rule=\"evenodd\" fill-opacity=\"1\" /><path clip-path=\"url(#clip290)\" d=\"M 0 0 M98.9085 221.4 Q95.2974 221.4 93.4688 224.964 Q91.6632 228.506 91.6632 235.636 Q91.6632 242.742 93.4688 246.307 Q95.2974 249.849 98.9085 249.849 Q102.543 249.849 104.348 246.307 Q106.177 242.742 106.177 235.636 Q106.177 228.506 104.348 224.964 Q102.543 221.4 98.9085 221.4 M98.9085 217.696 Q104.719 217.696 107.774 222.302 Q110.853 226.886 110.853 235.636 Q110.853 244.362 107.774 248.969 Q104.719 253.552 98.9085 253.552 Q93.0984 253.552 90.0197 248.969 Q86.9642 244.362 86.9642 235.636 Q86.9642 226.886 90.0197 222.302 Q93.0984 217.696 98.9085 217.696 Z\" fill=\"#000000\" fill-rule=\"evenodd\" fill-opacity=\"1\" /><circle clip-path=\"url(#clip292)\" cx=\"209.284\" cy=\"179.065\" r=\"14\" fill=\"#009af9\" fill-rule=\"evenodd\" fill-opacity=\"1\" stroke=\"#000000\" stroke-opacity=\"1\" stroke-width=\"3.2\"/>\n",
       "<circle clip-path=\"url(#clip292)\" cx=\"318.813\" cy=\"135.669\" r=\"14\" fill=\"#009af9\" fill-rule=\"evenodd\" fill-opacity=\"1\" stroke=\"#000000\" stroke-opacity=\"1\" stroke-width=\"3.2\"/>\n",
       "<circle clip-path=\"url(#clip292)\" cx=\"428.341\" cy=\"105.846\" r=\"14\" fill=\"#009af9\" fill-rule=\"evenodd\" fill-opacity=\"1\" stroke=\"#000000\" stroke-opacity=\"1\" stroke-width=\"3.2\"/>\n",
       "<circle clip-path=\"url(#clip292)\" cx=\"537.869\" cy=\"89.8958\" r=\"14\" fill=\"#009af9\" fill-rule=\"evenodd\" fill-opacity=\"1\" stroke=\"#000000\" stroke-opacity=\"1\" stroke-width=\"3.2\"/>\n",
       "<circle clip-path=\"url(#clip292)\" cx=\"647.398\" cy=\"87.9763\" r=\"14\" fill=\"#009af9\" fill-rule=\"evenodd\" fill-opacity=\"1\" stroke=\"#000000\" stroke-opacity=\"1\" stroke-width=\"3.2\"/>\n",
       "<circle clip-path=\"url(#clip292)\" cx=\"756.926\" cy=\"100.107\" r=\"14\" fill=\"#009af9\" fill-rule=\"evenodd\" fill-opacity=\"1\" stroke=\"#000000\" stroke-opacity=\"1\" stroke-width=\"3.2\"/>\n",
       "<circle clip-path=\"url(#clip292)\" cx=\"866.455\" cy=\"126.167\" r=\"14\" fill=\"#009af9\" fill-rule=\"evenodd\" fill-opacity=\"1\" stroke=\"#000000\" stroke-opacity=\"1\" stroke-width=\"3.2\"/>\n",
       "<circle clip-path=\"url(#clip292)\" cx=\"975.983\" cy=\"165.895\" r=\"14\" fill=\"#009af9\" fill-rule=\"evenodd\" fill-opacity=\"1\" stroke=\"#000000\" stroke-opacity=\"1\" stroke-width=\"3.2\"/>\n",
       "<circle clip-path=\"url(#clip292)\" cx=\"1085.51\" cy=\"218.895\" r=\"14\" fill=\"#009af9\" fill-rule=\"evenodd\" fill-opacity=\"1\" stroke=\"#000000\" stroke-opacity=\"1\" stroke-width=\"3.2\"/>\n",
       "<circle clip-path=\"url(#clip292)\" cx=\"1195.04\" cy=\"284.638\" r=\"14\" fill=\"#009af9\" fill-rule=\"evenodd\" fill-opacity=\"1\" stroke=\"#000000\" stroke-opacity=\"1\" stroke-width=\"3.2\"/>\n",
       "<circle clip-path=\"url(#clip292)\" cx=\"1304.57\" cy=\"362.465\" r=\"14\" fill=\"#009af9\" fill-rule=\"evenodd\" fill-opacity=\"1\" stroke=\"#000000\" stroke-opacity=\"1\" stroke-width=\"3.2\"/>\n",
       "<circle clip-path=\"url(#clip292)\" cx=\"1414.1\" cy=\"451.6\" r=\"14\" fill=\"#009af9\" fill-rule=\"evenodd\" fill-opacity=\"1\" stroke=\"#000000\" stroke-opacity=\"1\" stroke-width=\"3.2\"/>\n",
       "<circle clip-path=\"url(#clip292)\" cx=\"1523.63\" cy=\"551.153\" r=\"14\" fill=\"#009af9\" fill-rule=\"evenodd\" fill-opacity=\"1\" stroke=\"#000000\" stroke-opacity=\"1\" stroke-width=\"3.2\"/>\n",
       "<circle clip-path=\"url(#clip292)\" cx=\"1633.15\" cy=\"660.127\" r=\"14\" fill=\"#009af9\" fill-rule=\"evenodd\" fill-opacity=\"1\" stroke=\"#000000\" stroke-opacity=\"1\" stroke-width=\"3.2\"/>\n",
       "<circle clip-path=\"url(#clip292)\" cx=\"1742.68\" cy=\"777.435\" r=\"14\" fill=\"#009af9\" fill-rule=\"evenodd\" fill-opacity=\"1\" stroke=\"#000000\" stroke-opacity=\"1\" stroke-width=\"3.2\"/>\n",
       "<circle clip-path=\"url(#clip292)\" cx=\"1852.21\" cy=\"901.905\" r=\"14\" fill=\"#009af9\" fill-rule=\"evenodd\" fill-opacity=\"1\" stroke=\"#000000\" stroke-opacity=\"1\" stroke-width=\"3.2\"/>\n",
       "<circle clip-path=\"url(#clip292)\" cx=\"1961.74\" cy=\"1032.29\" r=\"14\" fill=\"#009af9\" fill-rule=\"evenodd\" fill-opacity=\"1\" stroke=\"#000000\" stroke-opacity=\"1\" stroke-width=\"3.2\"/>\n",
       "<circle clip-path=\"url(#clip292)\" cx=\"2071.27\" cy=\"1167.29\" r=\"14\" fill=\"#009af9\" fill-rule=\"evenodd\" fill-opacity=\"1\" stroke=\"#000000\" stroke-opacity=\"1\" stroke-width=\"3.2\"/>\n",
       "<circle clip-path=\"url(#clip292)\" cx=\"2180.8\" cy=\"1305.56\" r=\"14\" fill=\"#009af9\" fill-rule=\"evenodd\" fill-opacity=\"1\" stroke=\"#000000\" stroke-opacity=\"1\" stroke-width=\"3.2\"/>\n",
       "<circle clip-path=\"url(#clip292)\" cx=\"2290.32\" cy=\"1445.72\" r=\"14\" fill=\"#009af9\" fill-rule=\"evenodd\" fill-opacity=\"1\" stroke=\"#000000\" stroke-opacity=\"1\" stroke-width=\"3.2\"/>\n",
       "<path clip-path=\"url(#clip290)\" d=\"\n",
       "M1983.11 216.178 L2279.23 216.178 L2279.23 95.2176 L1983.11 95.2176  Z\n",
       "  \" fill=\"#ffffff\" fill-rule=\"evenodd\" fill-opacity=\"1\"/>\n",
       "<polyline clip-path=\"url(#clip290)\" style=\"stroke:#000000; stroke-width:4; stroke-opacity:1; fill:none\" points=\"\n",
       "  1983.11,216.178 2279.23,216.178 2279.23,95.2176 1983.11,95.2176 1983.11,216.178 \n",
       "  \"/>\n",
       "<circle clip-path=\"url(#clip290)\" cx=\"2081.15\" cy=\"155.698\" r=\"23\" fill=\"#009af9\" fill-rule=\"evenodd\" fill-opacity=\"1\" stroke=\"#000000\" stroke-opacity=\"1\" stroke-width=\"5.12\"/>\n",
       "<path clip-path=\"url(#clip290)\" d=\"M 0 0 M2193.03 175.385 Q2191.22 180.015 2189.51 181.427 Q2187.8 182.839 2184.93 182.839 L2181.53 182.839 L2181.53 179.274 L2184.03 179.274 Q2185.78 179.274 2186.76 178.44 Q2187.73 177.607 2188.91 174.505 L2189.67 172.561 L2179.19 147.052 L2183.7 147.052 L2191.8 167.329 L2199.9 147.052 L2204.42 147.052 L2193.03 175.385 Z\" fill=\"#000000\" fill-rule=\"evenodd\" fill-opacity=\"1\" /><path clip-path=\"url(#clip290)\" d=\"M 0 0 M2210.3 169.042 L2217.94 169.042 L2217.94 142.677 L2209.63 144.343 L2209.63 140.084 L2217.89 138.418 L2222.57 138.418 L2222.57 169.042 L2230.21 169.042 L2230.21 172.978 L2210.3 172.978 L2210.3 169.042 Z\" fill=\"#000000\" fill-rule=\"evenodd\" fill-opacity=\"1\" /></svg>\n"
      ]
     },
     "execution_count": 17,
     "metadata": {},
     "output_type": "execute_result"
    }
   ],
   "source": [
    "scatter(S + 2*C)"
   ]
  },
  {
   "cell_type": "code",
   "execution_count": 18,
   "metadata": {},
   "outputs": [
    {
     "data": {
      "text/plain": [
       "1-element Array{Int64,1}:\n",
       " 91"
      ]
     },
     "execution_count": 18,
     "metadata": {},
     "output_type": "execute_result"
    }
   ],
   "source": [
    "Σ * U"
   ]
  },
  {
   "cell_type": "code",
   "execution_count": 19,
   "metadata": {},
   "outputs": [
    {
     "data": {
      "text/plain": [
       "21.0"
      ]
     },
     "execution_count": 19,
     "metadata": {},
     "output_type": "execute_result"
    }
   ],
   "source": [
    "V' * U"
   ]
  },
  {
   "cell_type": "code",
   "execution_count": 21,
   "metadata": {},
   "outputs": [
    {
     "data": {
      "text/plain": [
       "6-element Array{Float64,1}:\n",
       " 1.0\n",
       " 2.0\n",
       " 3.0\n",
       " 4.0\n",
       " 5.0\n",
       " 6.0"
      ]
     },
     "execution_count": 21,
     "metadata": {},
     "output_type": "execute_result"
    }
   ],
   "source": [
    "U .* V"
   ]
  },
  {
   "cell_type": "code",
   "execution_count": 23,
   "metadata": {},
   "outputs": [
    {
     "data": {
      "text/plain": [
       "6-element Array{Float64,1}:\n",
       " 3.0\n",
       " 4.0\n",
       " 5.0\n",
       " 6.0\n",
       " 7.0\n",
       " 8.0"
      ]
     },
     "execution_count": 23,
     "metadata": {},
     "output_type": "execute_result"
    }
   ],
   "source": [
    "U .+ V .+ 1"
   ]
  },
  {
   "cell_type": "code",
   "execution_count": 24,
   "metadata": {},
   "outputs": [
    {
     "data": {
      "text/plain": [
       "6-element Array{String,1}:\n",
       " \"uno\"\n",
       " \"uno\"\n",
       " \"uno\"\n",
       " \"uno\"\n",
       " \"uno\"\n",
       " \"uno\""
      ]
     },
     "execution_count": 24,
     "metadata": {},
     "output_type": "execute_result"
    }
   ],
   "source": [
    "unos = fill(\"uno\",6)"
   ]
  },
  {
   "cell_type": "code",
   "execution_count": 25,
   "metadata": {},
   "outputs": [
    {
     "data": {
      "text/plain": [
       "6-element Array{String,1}:\n",
       " \"dos\"\n",
       " \"dos\"\n",
       " \"dos\"\n",
       " \"dos\"\n",
       " \"dos\"\n",
       " \"dos\""
      ]
     },
     "execution_count": 25,
     "metadata": {},
     "output_type": "execute_result"
    }
   ],
   "source": [
    "dos = fill(\"dos\", 6)"
   ]
  },
  {
   "cell_type": "code",
   "execution_count": 27,
   "metadata": {},
   "outputs": [
    {
     "data": {
      "text/plain": [
       "6-element Array{String,1}:\n",
       " \"unodos\"\n",
       " \"unodos\"\n",
       " \"unodos\"\n",
       " \"unodos\"\n",
       " \"unodos\"\n",
       " \"unodos\""
      ]
     },
     "execution_count": 27,
     "metadata": {},
     "output_type": "execute_result"
    }
   ],
   "source": [
    "unos .* dos"
   ]
  },
  {
   "cell_type": "code",
   "execution_count": 28,
   "metadata": {},
   "outputs": [
    {
     "data": {
      "text/plain": [
       "6-element Array{String,1}:\n",
       " \"dosuno\"\n",
       " \"dosuno\"\n",
       " \"dosuno\"\n",
       " \"dosuno\"\n",
       " \"dosuno\"\n",
       " \"dosuno\""
      ]
     },
     "execution_count": 28,
     "metadata": {},
     "output_type": "execute_result"
    }
   ],
   "source": [
    "dos .* unos"
   ]
  },
  {
   "cell_type": "code",
   "execution_count": 30,
   "metadata": {},
   "outputs": [
    {
     "data": {
      "text/plain": [
       "6-element Array{Int64,1}:\n",
       " 1\n",
       " 2\n",
       " 3\n",
       " 4\n",
       " 5\n",
       " 6"
      ]
     },
     "execution_count": 30,
     "metadata": {},
     "output_type": "execute_result"
    }
   ],
   "source": [
    "U"
   ]
  },
  {
   "cell_type": "code",
   "execution_count": 32,
   "metadata": {},
   "outputs": [
    {
     "data": {
      "text/plain": [
       "2×3 Array{Int64,2}:\n",
       " 1  3  5\n",
       " 2  4  6"
      ]
     },
     "execution_count": 32,
     "metadata": {},
     "output_type": "execute_result"
    }
   ],
   "source": [
    "A = reshape(U,2,3)"
   ]
  },
  {
   "cell_type": "code",
   "execution_count": 33,
   "metadata": {},
   "outputs": [
    {
     "data": {
      "text/plain": [
       "2×2 Array{Int64,2}:\n",
       " 1  3\n",
       " 2  4"
      ]
     },
     "execution_count": 33,
     "metadata": {},
     "output_type": "execute_result"
    }
   ],
   "source": [
    "Ac = A[1:2,1:2]"
   ]
  },
  {
   "cell_type": "code",
   "execution_count": 34,
   "metadata": {},
   "outputs": [
    {
     "data": {
      "text/plain": [
       "2×2 Array{Int64,2}:\n",
       "  7  15\n",
       " 10  22"
      ]
     },
     "execution_count": 34,
     "metadata": {},
     "output_type": "execute_result"
    }
   ],
   "source": [
    "Ac * Ac"
   ]
  },
  {
   "cell_type": "code",
   "execution_count": null,
   "metadata": {},
   "outputs": [],
   "source": []
  }
 ],
 "metadata": {
  "kernelspec": {
   "display_name": "Julia 1.5.3",
   "language": "julia",
   "name": "julia-1.5"
  },
  "language_info": {
   "file_extension": ".jl",
   "mimetype": "application/julia",
   "name": "julia",
   "version": "1.5.3"
  },
  "latex_envs": {
   "LaTeX_envs_menu_present": true,
   "autoclose": false,
   "autocomplete": true,
   "bibliofile": "biblio.bib",
   "cite_by": "apalike",
   "current_citInitial": 1,
   "eqLabelWithNumbers": true,
   "eqNumInitial": 1,
   "hotkeys": {
    "equation": "Ctrl-E",
    "itemize": "Ctrl-I"
   },
   "labels_anchors": false,
   "latex_user_defs": false,
   "report_style_numbering": false,
   "user_envs_cfg": false
  }
 },
 "nbformat": 4,
 "nbformat_minor": 4
}
